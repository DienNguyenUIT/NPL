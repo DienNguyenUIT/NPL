{
 "cells": [
  {
   "cell_type": "code",
   "execution_count": 292,
   "id": "8db5cf4e",
   "metadata": {
    "id": "8db5cf4e"
   },
   "outputs": [],
   "source": [
    "import re\n",
    "import string\n",
    "from nltk.tokenize import WhitespaceTokenizer "
   ]
  },
  {
   "cell_type": "code",
   "execution_count": 293,
   "id": "4ff949e6",
   "metadata": {
    "id": "4ff949e6"
   },
   "outputs": [],
   "source": [
    "white_space_tokenizer = WhitespaceTokenizer()"
   ]
  },
  {
   "cell_type": "code",
   "execution_count": 294,
   "id": "33168150",
   "metadata": {
    "id": "33168150"
   },
   "outputs": [],
   "source": [
    "data = 'tachthucong.txt'\n",
    "file_name_dictionary = \"Viet74K.txt\""
   ]
  },
  {
   "cell_type": "code",
   "execution_count": 295,
   "id": "12daf633",
   "metadata": {
    "colab": {
     "base_uri": "https://localhost:8080/",
     "height": 243
    },
    "id": "12daf633",
    "outputId": "a9724e48-3832-444f-c499-e14af5b24ec2"
   },
   "outputs": [
    {
     "name": "stdout",
     "output_type": "stream",
     "text": [
      "Number of sentences in data: 40\n",
      "['đến nay, lực_lượng chức_năng đã xác_định trên 600 F1 và hàng nghìn F2 liên_quan nhóm bệnh_nhân này.\\n', 'dự_báo, số F0 tại xã Hải_Minh dự_kiến sẽ còn gia_tăng trong những ngày tới.\\n', 'đến nay, lực_lượng chức_năng đã xác_định trên 600 F1 và hàng nghìn F2 liên_quan nhóm bệnh_nhân này.\\n', 'ông Nguyễn_Ngọc_Toàn, tổng_biên_tập báo Thanh_Niên, trao thiết_bị hỗ_trợ học_tập và gửi_gắm nhiều niềm hy_vọng cho các em sẽ gặt_hái được nhiều thành_công học_tập.\\n', '24 học_sinh nhận thiết_bị hỗ_trợ từ chương_trình là 24 hoàn_cảnh khó_khăn khác nhau nhưng cùng chung ước_muốn được học trực_tuyến cùng thầy_cô và bạn_bè.\\n', 'hay đó là Bùi_Gia_Phúc, học_sinh lớp 4/5 trường tiểu_học Trần_Văn_Ơn, sống với ông_bà nội ngay khi mới chỉ một tháng tuổi.\\n', 'thông_qua đó thêm một cơ_hội để các em vượt qua khó_khăn, thử_thách, vươn lên đạt kết_quả tốt nhất trong học_tập, đóng_góp cho tương_lai.\\n', 'chương_trình sẽ là dịp để lan tỏa và san_sẻ tình_yêu_thương trong đại_dịch.\\n', 'ông Nguyễn_Xuân_Tiến, uỷ_viên ban thường_vụ, trưởng_ban tuyên_giáo quận_uỷ, trao máy_tính_bảng của chương_trình cho học_sinh\\n', 'ông Nguyễn_Văn_Cường, phó_giám_đốc kinh_doanh FPT_Shop vùng TP_HCM, phát_biểu tại chương_trình\\n', 'trong chuyến thăm biệt_thự song lập mới hồi cuối tuần, Quốc_Cơ ngẫu_hứng diễn xiếc chồng tay với hai con tại tổ_hợp quảng_trường bến du_thuyền Aqua_Marina.\\n', 'bé Bắp dạn_dĩ hơn bạn_bè cùng lứa nhờ được bố luyện xiếc từ khi chưa đầy một tuổi. \\n', 'đại_dịch khiến cả hai chú_trọng không_gian_sống nhiều hơn\\n', 'từ đó gia_đình mới có thêm nhiều hoạt_động gắn_kết, nâng cao giá_trị tinh_thần cho cả gia_đình\".\\n', 'Hồng_Phượng nói khi ngắm chồng_con chơi_đùa ngoài khuôn_viên biệt_thự song lập đảo Phượng_Hoàng.\\n', 'tổ_hợp quảng_trường, bến du_thuyền đậm chất châu_Âu Aqua_Marina là một trong những điểm ấn_tượng nhất tại Aqua_City\",Hồng_Phượng nói.\\n', 'chúng_tôi cũng thích chuỗi cửa_hàng F_B bao quanh, sau những ngày đi quay vất_vả, cả nhà có_thể cùng thưởng_thức những món ngon giữa không_gian xanh_mát.\\n', 'nếu đại_gia_đình về sống tại Aqua_City, mỗi lần đi diễn xa, tôi rất yên_tâm vì vợ_con và bố_mẹ có không_gian_sống thoải_mái.\\n', 'tháng 11, khách_hàng có cơ_hội tham_quan trải_nghiệm đô_thị sinh_thái thông_minh Aqua_City bằng đường_sông .\\n', 'khách_hàng có cơ_hội nhận cặp voucher định_danh tổng trị_giá 200 triệu đồng .\\n', 'ngân_hàng TMCP xuất_nhập_khẩu Việt_Nam ( Eximbank ) thay_đổi giá 17 lần chỉ trong 5 giờ giao_dịch .\\n', 'tốc_độ tăng giá của vàng trong nước nhanh hơn so với quốc_tế khiến giá SJC đắt hơn lên 10 triệu đồng/lượng .\\n', 'tâm_lý người_mua lo_ngại trước tình_trạng tăng giá của vàng thế_giới .\\n', 'chương_trình đấu_giá số_đẹp_đuôi 2011 đang khiến cộng_đồng_mạng vô_cùng tò_mò , xôn_xao .\\n', 'riêng các vi_phạm gây hậu_quả rất nghiêm_trọng hay đặc_biệt nghiêm_trọng , dự_thảo này đưa_ra mức_phạt hàng trăm triệu đồng .\\n', 'nhưng khi biết ý_nghĩa ẩn sau đó , mọi_người đều gật_gù công_nhận đây quả là món_quà trân_quý dành_tặng thầy_cô .\\n', 'cụ_thể , đối_với hành_vi cấp văn_bằng , chứng_chỉ không_đúng tên ngành , nghề , hoặc ngành , nghề không_được cấp trong giấy_chứng_nhận đăng_ký hoạt_động GDNN , giấy_chứng_nhận đăng_ký hoạt_động liên_kết đào_tạo với nước_ngoài\\n', 'những bông_hoa , món_quà nên dành gửi_tặng cho đồng_bào mất_mát do dịch_bệnh , những chiến_sĩ áo_trắng , lực_lượng đi_đầu trong phòng_chống dịch_bệnh .\\n', 'các trường không_nên tổ_chức kỷ_niệm lớn hoặc liên_hoan dưới bất_kỳ hình_thức nào_đó chính là sự_thể_hiện lòng_biết_ơn thiết_thực nhất nhân ngày Nhà_giáo_Việt_Nam .\\n', 'đây là năm đầu_tiên mà nhiều sinh_viên sư_phạm trên cương_vị mới là giáo_viên nhận được sự_tri_ân từ học_trò của mình .\\n', 'tự mình chuẩn_bị ngày_lễ cho mình , Vân_Nhi xem đó là kỷ_niệm đáng_nhớ , là bước_ngoặt trong đời .\\n', '\" cảm_giác lạ lắm khi có người tặng quà dù không_phải ngày_sinh_nhật \" , Vân_Nhi chia_sẻ .\\n', 'nếu đại gia_đình về sống tại Aqua_City , mỗi lần đi_diễn xa , tôi rất yên_tâm vì vợ_con và bố_mẹ có không_gian sống thoải_mái .\\n', 'nguyên_nhân khiến vàng trong nước tăng mạnh , theo Eximbank là do lực_mua vàng nhỏ_lẻ trong ngày xuất_hiện nhiều hơn so_với bán_ra .\\n', 'thị_trường không_có tình_trạng khan_hiếm vàng , nếu được_giá thì có người_bán_ra nhưng do các đơn_vị kinh_doanh phải cân_đối được nguồn_hàng nên giá hỏi_qua_hỏi_lại cũng đã đẩy_lên_cao .\\n', 'lớp 2 sẽ thực_hiện bài kiểm_tra định_kỳ cuối học_kỳ trực_tiếp tại trường.\\n', 'giáo_viên ứng_dụng công_nghệ_thông_tin để giao bài và nhận bài_làm, sản_phẩm học_tập của học_sinh\\n', 'phụ_huynh cần khuyến_khích hỗ_trợ học_sinh tự_học luyện_tập, thực_hành\\n', 'giáo_viên hướng_dẫn để cha_mẹ học_sinh tham_gia vào quá_trình đánh_giá người học\\n', 'bài kiểm_tra định_kỳ cuối học_kỳ và cuối năm_học được tổ_chức linh_hoạt bằng các hình_thức trực_tiếp\\n']\n"
     ]
    }
   ],
   "source": [
    "sentences = list()\n",
    "\n",
    "with open(data, \"r\", encoding='utf-8') as f:\n",
    "    content = f.readlines()\n",
    "    for i in range(len(content)):\n",
    "        sentence = content[i]\n",
    "        sentences.append(sentence)\n",
    "        \n",
    "print(\"Number of sentences in data:\", len(sentences))\n",
    "print(sentences)"
   ]
  },
  {
   "cell_type": "code",
   "execution_count": 296,
   "id": "7e35b09a",
   "metadata": {
    "id": "7e35b09a"
   },
   "outputs": [
    {
     "name": "stdout",
     "output_type": "stream",
     "text": [
      "Number of terms in dictionary: 73901\n"
     ]
    }
   ],
   "source": [
    "dictionary_corpus = list()\n",
    "\n",
    "with open(file_name_dictionary, \"r\", encoding='utf-8') as f:\n",
    "    content = f.readlines()\n",
    "    f.close()\n",
    "\n",
    "    for i in range(len(content)):\n",
    "        term = content[i].strip().lower()\n",
    "        dictionary_corpus.append(term)\n",
    "        \n",
    "dictionary_corpus\n",
    "\n",
    "print(\"Number of terms in dictionary:\", len(dictionary_corpus))"
   ]
  },
  {
   "cell_type": "code",
   "execution_count": 297,
   "id": "1b191667",
   "metadata": {},
   "outputs": [],
   "source": [
    "punch =  string.punctuation\n",
    "characters_to_remove = '_'\n",
    "for character in characters_to_remove:\n",
    "    punch = punch.replace(character,'')"
   ]
  },
  {
   "cell_type": "code",
   "execution_count": 298,
   "id": "ab1c64d3",
   "metadata": {
    "id": "ab1c64d3"
   },
   "outputs": [],
   "source": [
    "def PreprocessString(string_data):\n",
    "    # Lower the text\n",
    "    preprocess_data = string_data.lower()\n",
    "    \n",
    "    # Remove punctuations, each punctuation = space, ex: \"\"information @#$retrieval\" -> \"information    retrieval\"\n",
    "    preprocess_data = re.sub('[%s]' % re.escape(punch), ' ', preprocess_data)   \n",
    "        \n",
    "    # Tokenize word by white space\n",
    "    preprocess_data = white_space_tokenizer.tokenize(preprocess_data)\n",
    "      \n",
    "    return preprocess_data"
   ]
  },
  {
   "cell_type": "code",
   "execution_count": 299,
   "id": "b4684232",
   "metadata": {
    "id": "b4684232"
   },
   "outputs": [],
   "source": [
    "def GetTerm(sentence_tokenized, start_index, end_index):\n",
    "    term = \"\"\n",
    "    for i in range(start_index, end_index):\n",
    "        term += sentence_tokenized[i] + \" \"\n",
    "    \n",
    "    return term.strip()"
   ]
  },
  {
   "cell_type": "code",
   "execution_count": 300,
   "id": "f49476ab",
   "metadata": {
    "id": "f49476ab"
   },
   "outputs": [],
   "source": [
    "LENGTH_MAX_TERM_VIETNAMESE = 4\n",
    "LENGTH_MAX_TERM = LENGTH_MAX_TERM_VIETNAMESE\n",
    "\n",
    "def maximumMatching(sentences):\n",
    "    sentences_tokenized = dict()\n",
    "\n",
    "    for ith_sentence, sentence in enumerate(sentences):\n",
    "        \"\"\" Hiện tại thì chỗ này xét cả câu luôn, về sau sẽ nâng cấp lên thành xét các vế trong câu \"\"\"\n",
    "        sentence_part_tokenzied = PreprocessString(sentence)\n",
    "\n",
    "        ith_start_term = 0\n",
    "        if len(sentence_part_tokenzied) > LENGTH_MAX_TERM:\n",
    "            ith_end_term = ith_start_term + LENGTH_MAX_TERM\n",
    "        else:\n",
    "            ith_end_term = len(sentence_part_tokenzied)\n",
    "\n",
    "        term = GetTerm(sentence_part_tokenzied, ith_start_term, ith_end_term)\n",
    "\n",
    "        # Xét hết cả vế\n",
    "        while True:\n",
    "\n",
    "            # Xét hết cả term\n",
    "            while ith_start_term != ith_end_term:\n",
    "                if term in dictionary_corpus:\n",
    "\n",
    "                    if ith_sentence not in sentences_tokenized.keys():\n",
    "                        sentences_tokenized[ith_sentence] = [term]\n",
    "                    else:\n",
    "                        sentences_tokenized[ith_sentence].append(term)\n",
    "    #                 print(\"Trùng được term:\", term)\n",
    "\n",
    "                    break\n",
    "                else:\n",
    "    #                 print(\"không trùng term nào cả, term:\", term)\n",
    "                    ith_end_term -= 1\n",
    "                    term = GetTerm(sentence_part_tokenzied, ith_start_term, ith_end_term)\n",
    "\n",
    "            # Đã xét xong term cuối cùng thì chuyển sang câu (vế) khác\n",
    "            if ith_end_term == len(sentence_part_tokenzied):\n",
    "                break\n",
    "            # Nếu vẫn còn term để xét thì chuyển sang term kế tiếp\n",
    "            else:\n",
    "                # Đề phòng trường hợp term không có trong dictionary thì end sẽ tiến về và bằng start, và sẽ gây ra vòng lặp vô tận\n",
    "                # nếu cứ gắn start bằng lại end (giá trị start ban đầu) và cộng end = start + LEN_MAX_TERM_VIETNAMESE\n",
    "                # vd: term = \"2 mũi vaccine cơ\", start = 16, end = 20, chữ \"2\" không có trong dictionary nên sẽ khiến end bị trừ\n",
    "                # thành 16 (bằng với start), và nếu không có điều kiện kiểm tra \"ith_start_term == ith_end_term\" thì sẽ khiến\n",
    "                # start và end trở lại như cũ (16 và 20), vì ở đây gán start = end và đoạn bên dưới gán end = start + LEN_MAX_TERM_VIETNAMESE\n",
    "                # Nên mới phải cần thêm term không có trong dictionary vào trong danh sách các term của từng văn bản (câu)\n",
    "                # Và chuyển sang so khớp term kế tiếp\n",
    "                if ith_start_term == ith_end_term:\n",
    "                    term = GetTerm(sentence_part_tokenzied, ith_start_term, ith_start_term+1)\n",
    "                    if ith_sentence not in sentences_tokenized.keys():\n",
    "                        sentences_tokenized[ith_sentence] = [term]\n",
    "                    else:\n",
    "                        sentences_tokenized[ith_sentence].append(term)\n",
    "\n",
    "                    ith_start_term = ith_end_term + 1\n",
    "                else:\n",
    "                    ith_start_term = ith_end_term\n",
    "\n",
    "                # Nếu vẫn còn nhiều hơn 4 term để xét thì chuyển sang 4 term kế tiếp\n",
    "                if len(sentence_part_tokenzied) - ith_end_term > LENGTH_MAX_TERM:\n",
    "                    ith_end_term = ith_start_term + LENGTH_MAX_TERM\n",
    "                # Nếu chỉ còn nhiều nhất là 4 term thì lấy ra những term cuối cùng của vế để xét\n",
    "                else:\n",
    "                    ith_end_term = len(sentence_part_tokenzied)\n",
    "\n",
    "                term = GetTerm(sentence_part_tokenzied, ith_start_term, ith_end_term)\n",
    "    return sentences_tokenized.values()"
   ]
  },
  {
   "cell_type": "code",
   "execution_count": 301,
   "id": "fd1ea871",
   "metadata": {},
   "outputs": [],
   "source": [
    "def indexing (lst):\n",
    "    dic = {}\n",
    "    i = 0 \n",
    "    for word in lst:\n",
    "        n_words = len(word.split(' '))\n",
    "        if n_words == 1:\n",
    "            dic[word] = (i,i)\n",
    "        else: \n",
    "            dic[word]= (i,i+n_words-1)\n",
    "        i += n_words\n",
    "    return dic "
   ]
  },
  {
   "cell_type": "code",
   "execution_count": 302,
   "id": "d6a722c7",
   "metadata": {},
   "outputs": [
    {
     "name": "stdout",
     "output_type": "stream",
     "text": [
      "['đến nay, lực_lượng chức_năng đã xác_định trên 600 F1 và hàng nghìn F2 liên_quan nhóm bệnh_nhân này.\\n', 'dự_báo, số F0 tại xã Hải_Minh dự_kiến sẽ còn gia_tăng trong những ngày tới.\\n', 'đến nay, lực_lượng chức_năng đã xác_định trên 600 F1 và hàng nghìn F2 liên_quan nhóm bệnh_nhân này.\\n', 'ông Nguyễn_Ngọc_Toàn, tổng_biên_tập báo Thanh_Niên, trao thiết_bị hỗ_trợ học_tập và gửi_gắm nhiều niềm hy_vọng cho các em sẽ gặt_hái được nhiều thành_công học_tập.\\n', '24 học_sinh nhận thiết_bị hỗ_trợ từ chương_trình là 24 hoàn_cảnh khó_khăn khác nhau nhưng cùng chung ước_muốn được học trực_tuyến cùng thầy_cô và bạn_bè.\\n', 'hay đó là Bùi_Gia_Phúc, học_sinh lớp 4/5 trường tiểu_học Trần_Văn_Ơn, sống với ông_bà nội ngay khi mới chỉ một tháng tuổi.\\n', 'thông_qua đó thêm một cơ_hội để các em vượt qua khó_khăn, thử_thách, vươn lên đạt kết_quả tốt nhất trong học_tập, đóng_góp cho tương_lai.\\n', 'chương_trình sẽ là dịp để lan tỏa và san_sẻ tình_yêu_thương trong đại_dịch.\\n', 'ông Nguyễn_Xuân_Tiến, uỷ_viên ban thường_vụ, trưởng_ban tuyên_giáo quận_uỷ, trao máy_tính_bảng của chương_trình cho học_sinh\\n', 'ông Nguyễn_Văn_Cường, phó_giám_đốc kinh_doanh FPT_Shop vùng TP_HCM, phát_biểu tại chương_trình\\n', 'trong chuyến thăm biệt_thự song lập mới hồi cuối tuần, Quốc_Cơ ngẫu_hứng diễn xiếc chồng tay với hai con tại tổ_hợp quảng_trường bến du_thuyền Aqua_Marina.\\n', 'bé Bắp dạn_dĩ hơn bạn_bè cùng lứa nhờ được bố luyện xiếc từ khi chưa đầy một tuổi. \\n', 'đại_dịch khiến cả hai chú_trọng không_gian_sống nhiều hơn\\n', 'từ đó gia_đình mới có thêm nhiều hoạt_động gắn_kết, nâng cao giá_trị tinh_thần cho cả gia_đình\".\\n', 'Hồng_Phượng nói khi ngắm chồng_con chơi_đùa ngoài khuôn_viên biệt_thự song lập đảo Phượng_Hoàng.\\n', 'tổ_hợp quảng_trường, bến du_thuyền đậm chất châu_Âu Aqua_Marina là một trong những điểm ấn_tượng nhất tại Aqua_City\",Hồng_Phượng nói.\\n', 'chúng_tôi cũng thích chuỗi cửa_hàng F_B bao quanh, sau những ngày đi quay vất_vả, cả nhà có_thể cùng thưởng_thức những món ngon giữa không_gian xanh_mát.\\n', 'nếu đại_gia_đình về sống tại Aqua_City, mỗi lần đi diễn xa, tôi rất yên_tâm vì vợ_con và bố_mẹ có không_gian_sống thoải_mái.\\n', 'tháng 11, khách_hàng có cơ_hội tham_quan trải_nghiệm đô_thị sinh_thái thông_minh Aqua_City bằng đường_sông .\\n', 'khách_hàng có cơ_hội nhận cặp voucher định_danh tổng trị_giá 200 triệu đồng .\\n', 'ngân_hàng TMCP xuất_nhập_khẩu Việt_Nam ( Eximbank ) thay_đổi giá 17 lần chỉ trong 5 giờ giao_dịch .\\n', 'tốc_độ tăng giá của vàng trong nước nhanh hơn so với quốc_tế khiến giá SJC đắt hơn lên 10 triệu đồng/lượng .\\n', 'tâm_lý người_mua lo_ngại trước tình_trạng tăng giá của vàng thế_giới .\\n', 'chương_trình đấu_giá số_đẹp_đuôi 2011 đang khiến cộng_đồng_mạng vô_cùng tò_mò , xôn_xao .\\n', 'riêng các vi_phạm gây hậu_quả rất nghiêm_trọng hay đặc_biệt nghiêm_trọng , dự_thảo này đưa_ra mức_phạt hàng trăm triệu đồng .\\n', 'nhưng khi biết ý_nghĩa ẩn sau đó , mọi_người đều gật_gù công_nhận đây quả là món_quà trân_quý dành_tặng thầy_cô .\\n', 'cụ_thể , đối_với hành_vi cấp văn_bằng , chứng_chỉ không_đúng tên ngành , nghề , hoặc ngành , nghề không_được cấp trong giấy_chứng_nhận đăng_ký hoạt_động GDNN , giấy_chứng_nhận đăng_ký hoạt_động liên_kết đào_tạo với nước_ngoài\\n', 'những bông_hoa , món_quà nên dành gửi_tặng cho đồng_bào mất_mát do dịch_bệnh , những chiến_sĩ áo_trắng , lực_lượng đi_đầu trong phòng_chống dịch_bệnh .\\n', 'các trường không_nên tổ_chức kỷ_niệm lớn hoặc liên_hoan dưới bất_kỳ hình_thức nào_đó chính là sự_thể_hiện lòng_biết_ơn thiết_thực nhất nhân ngày Nhà_giáo_Việt_Nam .\\n', 'đây là năm đầu_tiên mà nhiều sinh_viên sư_phạm trên cương_vị mới là giáo_viên nhận được sự_tri_ân từ học_trò của mình .\\n', 'tự mình chuẩn_bị ngày_lễ cho mình , Vân_Nhi xem đó là kỷ_niệm đáng_nhớ , là bước_ngoặt trong đời .\\n', '\" cảm_giác lạ lắm khi có người tặng quà dù không_phải ngày_sinh_nhật \" , Vân_Nhi chia_sẻ .\\n', 'nếu đại gia_đình về sống tại Aqua_City , mỗi lần đi_diễn xa , tôi rất yên_tâm vì vợ_con và bố_mẹ có không_gian sống thoải_mái .\\n', 'nguyên_nhân khiến vàng trong nước tăng mạnh , theo Eximbank là do lực_mua vàng nhỏ_lẻ trong ngày xuất_hiện nhiều hơn so_với bán_ra .\\n', 'thị_trường không_có tình_trạng khan_hiếm vàng , nếu được_giá thì có người_bán_ra nhưng do các đơn_vị kinh_doanh phải cân_đối được nguồn_hàng nên giá hỏi_qua_hỏi_lại cũng đã đẩy_lên_cao .\\n', 'lớp 2 sẽ thực_hiện bài kiểm_tra định_kỳ cuối học_kỳ trực_tiếp tại trường.\\n', 'giáo_viên ứng_dụng công_nghệ_thông_tin để giao bài và nhận bài_làm, sản_phẩm học_tập của học_sinh\\n', 'phụ_huynh cần khuyến_khích hỗ_trợ học_sinh tự_học luyện_tập, thực_hành\\n', 'giáo_viên hướng_dẫn để cha_mẹ học_sinh tham_gia vào quá_trình đánh_giá người học\\n', 'bài kiểm_tra định_kỳ cuối học_kỳ và cuối năm_học được tổ_chức linh_hoạt bằng các hình_thức trực_tiếp\\n']\n"
     ]
    }
   ],
   "source": [
    "print(sentences)"
   ]
  },
  {
   "cell_type": "code",
   "execution_count": 303,
   "id": "18d93250",
   "metadata": {},
   "outputs": [
    {
     "name": "stdout",
     "output_type": "stream",
     "text": [
      "[{'đến': (0, 0), 'nay': (1, 1), 'lực lượng': (2, 3), 'chức năng': (4, 5), 'đã': (6, 6), 'xác định': (7, 8), 'trên': (9, 9), '600': (10, 10), 'f1': (11, 11), 'và': (12, 12), 'hàng': (13, 13), 'nghìn': (14, 14), 'f2': (15, 15), 'liên quan': (16, 17), 'nhóm': (18, 18), 'bệnh nhân': (19, 20), 'này': (21, 21)}, {'dự báo': (0, 1), 'số': (2, 2), 'f0': (3, 3), 'tại': (4, 4), 'xã': (5, 5), 'hải minh': (6, 7), 'dự kiến': (8, 9), 'sẽ': (10, 10), 'còn': (11, 11), 'gia tăng': (12, 13), 'trong': (14, 14), 'những': (15, 15), 'ngày': (16, 16), 'tới': (17, 17)}, {'đến': (0, 0), 'nay': (1, 1), 'lực lượng': (2, 3), 'chức năng': (4, 5), 'đã': (6, 6), 'xác định': (7, 8), 'trên': (9, 9), '600': (10, 10), 'f1': (11, 11), 'và': (12, 12), 'hàng': (13, 13), 'nghìn': (14, 14), 'f2': (15, 15), 'liên quan': (16, 17), 'nhóm': (18, 18), 'bệnh nhân': (19, 20), 'này': (21, 21)}, {'ông': (0, 0), 'nguyễn ngọc toàn': (1, 3), 'tổng biên tập': (4, 6), 'báo': (7, 7), 'thanh niên': (8, 9), 'trao': (10, 10), 'thiết bị': (11, 12), 'hỗ trợ': (13, 14), 'học tập': (34, 35), 'và': (17, 17), 'gửi gắm': (18, 19), 'nhiều': (31, 31), 'niềm': (21, 21), 'hy vọng': (22, 23), 'cho': (24, 24), 'các': (25, 25), 'em': (26, 26), 'sẽ': (27, 27), 'gặt hái': (28, 29), 'được': (30, 30), 'thành công': (32, 33)}, {'24': (12, 12), 'học sinh': (1, 2), 'nhận': (3, 3), 'thiết bị': (4, 5), 'hỗ trợ': (6, 7), 'từ': (8, 8), 'chương trình': (9, 10), 'là': (11, 11), 'hoàn cảnh': (13, 14), 'khó khăn': (15, 16), 'khác': (17, 17), 'nhau': (18, 18), 'nhưng': (19, 19), 'cùng': (28, 28), 'chung': (21, 21), 'ước muốn': (22, 23), 'được': (24, 24), 'học': (25, 25), 'trực tuyến': (26, 27), 'thầy cô': (29, 30), 'và': (31, 31), 'bạn bè': (32, 33)}, {'hay': (0, 0), 'đó': (1, 1), 'là': (2, 2), 'bùi gia phúc': (3, 5), 'học sinh': (6, 7), 'lớp': (8, 8), '4': (9, 9), '5': (10, 10), 'trường': (11, 11), 'tiểu học': (12, 13), 'trần văn ơn': (14, 16), 'sống': (17, 17), 'với': (18, 18), 'ông bà': (19, 20), 'nội': (21, 21), 'ngay': (22, 22), 'khi': (23, 23), 'mới': (24, 24), 'chỉ': (25, 25), 'một': (26, 26), 'tháng': (27, 27), 'tuổi': (28, 28)}, {'thông qua': (0, 1), 'đó': (2, 2), 'thêm': (3, 3), 'một': (4, 4), 'cơ hội': (5, 6), 'để': (7, 7), 'các': (8, 8), 'em': (9, 9), 'vượt': (10, 10), 'qua': (11, 11), 'khó khăn': (12, 13), 'thử thách': (14, 15), 'vươn': (16, 16), 'lên': (17, 17), 'đạt': (18, 18), 'kết quả': (19, 20), 'tốt': (21, 21), 'nhất': (22, 22), 'trong': (23, 23), 'học tập': (24, 25), 'đóng góp': (26, 27), 'cho': (28, 28), 'tương lai': (29, 30)}, {'chương trình': (0, 1), 'sẽ': (2, 2), 'là': (3, 3), 'dịp': (4, 4), 'để': (5, 5), 'lan': (6, 6), 'tỏa': (7, 7), 'và': (8, 8), 'san sẻ': (9, 10), 'tình yêu thương': (11, 13), 'trong': (14, 14), 'đại dịch': (15, 16)}, {'ông': (0, 0), 'nguyễn xuân tiến': (1, 3), 'uỷ viên': (4, 5), 'ban': (6, 6), 'thường vụ': (7, 8), 'trưởng ban': (9, 10), 'tuyên giáo': (11, 12), 'quận uỷ': (13, 14), 'trao': (15, 15), 'máy tính bảng': (16, 18), 'của': (19, 19), 'chương trình': (20, 21), 'cho': (22, 22), 'học sinh': (23, 24)}, {'ông': (0, 0), 'nguyễn văn cường': (1, 3), 'phó giám đốc': (4, 6), 'kinh doanh': (7, 8), 'fpt shop': (9, 10), 'vùng': (11, 11), 'tp hcm': (12, 13), 'phát biểu': (14, 15), 'tại': (16, 16), 'chương trình': (17, 18)}, {'trong': (0, 0), 'chuyến': (1, 1), 'thăm': (2, 2), 'biệt thự': (3, 4), 'song': (5, 5), 'lập': (6, 6), 'mới': (7, 7), 'hồi': (8, 8), 'cuối': (9, 9), 'tuần': (10, 10), 'quốc cơ': (11, 12), 'ngẫu hứng': (13, 14), 'diễn': (15, 15), 'xiếc': (16, 16), 'chồng': (17, 17), 'tay': (18, 18), 'với': (19, 19), 'hai': (20, 20), 'con': (21, 21), 'tại': (22, 22), 'tổ hợp': (23, 24), 'quảng trường': (25, 26), 'bến': (27, 27), 'du thuyền': (28, 29), 'aqua marina': (30, 31)}, {'bé': (0, 0), 'bắp': (1, 1), 'dạn dĩ': (2, 3), 'hơn': (4, 4), 'bạn bè': (5, 6), 'cùng': (7, 7), 'lứa': (8, 8), 'nhờ': (9, 9), 'được': (10, 10), 'bố': (11, 11), 'luyện': (12, 12), 'xiếc': (13, 13), 'từ': (14, 14), 'khi': (15, 15), 'chưa': (16, 16), 'đầy': (17, 17), 'một': (18, 18), 'tuổi': (19, 19)}, {'đại dịch': (0, 1), 'khiến': (2, 2), 'cả': (3, 3), 'hai': (4, 4), 'chú trọng': (5, 6), 'không gian sống': (7, 9), 'nhiều': (10, 10), 'hơn': (11, 11)}, {'từ': (0, 0), 'đó': (1, 1), 'gia đình': (20, 21), 'mới': (4, 4), 'có': (5, 5), 'thêm': (6, 6), 'nhiều': (7, 7), 'hoạt động': (8, 9), 'gắn kết': (10, 11), 'nâng': (12, 12), 'cao': (13, 13), 'giá trị': (14, 15), 'tinh thần': (16, 17), 'cho': (18, 18), 'cả': (19, 19)}, {'hồng phượng': (0, 1), 'nói': (2, 2), 'khi': (3, 3), 'ngắm': (4, 4), 'chồng con': (5, 6), 'chơi đùa': (7, 8), 'ngoài': (9, 9), 'khuôn viên': (10, 11), 'biệt thự': (12, 13), 'song': (14, 14), 'lập': (15, 15), 'đảo': (16, 16), 'phượng hoàng': (17, 18)}, {'tổ hợp': (0, 1), 'quảng trường': (2, 3), 'bến': (4, 4), 'du thuyền': (5, 6), 'đậm': (7, 7), 'chất': (8, 8), 'châu âu': (9, 10), 'aqua marina': (11, 12), 'là': (13, 13), 'một': (14, 14), 'trong': (15, 15), 'những': (16, 16), 'điểm': (17, 17), 'ấn tượng': (18, 19), 'nhất': (20, 20), 'tại': (21, 21), 'aqua city': (22, 23), 'hồng phượng': (24, 25), 'nói': (26, 26)}, {'chúng tôi': (0, 1), 'cũng': (2, 2), 'thích': (3, 3), 'chuỗi': (4, 4), 'cửa hàng': (5, 6), 'f b': (7, 8), 'bao': (9, 9), 'quanh': (10, 10), 'sau': (11, 11), 'những': (25, 25), 'ngày': (13, 13), 'đi': (14, 14), 'quay': (15, 15), 'vất vả': (16, 17), 'cả': (18, 18), 'nhà': (19, 19), 'có thể': (20, 21), 'cùng': (22, 22), 'thưởng thức': (23, 24), 'món': (26, 26), 'ngon': (27, 27), 'giữa': (28, 28), 'không gian': (29, 30), 'xanh mát': (31, 32)}, {'nếu': (0, 0), 'đại gia đình': (1, 3), 'về': (4, 4), 'sống': (5, 5), 'tại': (6, 6), 'aqua city': (7, 8), 'mỗi': (9, 9), 'lần': (10, 10), 'đi': (11, 11), 'diễn': (12, 12), 'xa': (13, 13), 'tôi': (14, 14), 'rất': (15, 15), 'yên tâm': (16, 17), 'vì': (18, 18), 'vợ con': (19, 20), 'và': (21, 21), 'bố mẹ': (22, 23), 'có': (24, 24), 'không gian sống': (25, 27), 'thoải mái': (28, 29)}, {'tháng': (0, 0), '11': (1, 1), 'khách hàng': (2, 3), 'có': (4, 4), 'cơ hội': (5, 6), 'tham quan': (7, 8), 'trải nghiệm': (9, 10), 'đô thị': (11, 12), 'sinh thái': (13, 14), 'thông minh': (15, 16), 'aqua city': (17, 18), 'bằng': (19, 19), 'đường sông': (20, 21)}, {'khách hàng': (0, 1), 'có': (2, 2), 'cơ hội': (3, 4), 'nhận': (5, 5), 'cặp': (6, 6), 'voucher': (7, 7), 'định danh': (8, 9), 'tổng': (10, 10), 'trị giá': (11, 12), '200': (13, 13), 'triệu': (14, 14), 'đồng': (15, 15)}, {'ngân hàng': (0, 1), 'tmcp': (2, 2), 'xuất nhập khẩu': (3, 5), 'việt nam': (6, 7), 'eximbank': (8, 8), 'thay đổi': (9, 10), 'giá': (11, 11), '17': (12, 12), 'lần': (13, 13), 'chỉ': (14, 14), 'trong': (15, 15), '5': (16, 16), 'giờ': (17, 17), 'giao dịch': (18, 19)}, {'tốc độ': (0, 1), 'tăng': (2, 2), 'giá': (15, 15), 'của': (4, 4), 'vàng': (5, 5), 'trong': (6, 6), 'nước': (7, 7), 'nhanh': (8, 8), 'hơn': (18, 18), 'so': (10, 10), 'với': (11, 11), 'quốc tế': (12, 13), 'khiến': (14, 14), 'sjc': (16, 16), 'đắt': (17, 17), 'lên': (19, 19), '10': (20, 20), 'triệu': (21, 21), 'đồng': (22, 22), 'lượng': (23, 23)}, {'tâm lý': (0, 1), 'người mua': (2, 3), 'lo ngại': (4, 5), 'trước': (6, 6), 'tình trạng': (7, 8), 'tăng': (9, 9), 'giá': (10, 10), 'của': (11, 11), 'vàng': (12, 12), 'thế giới': (13, 14)}, {'chương trình': (0, 1), 'đấu giá': (2, 3), 'số đẹp đuôi': (4, 6), '2011': (7, 7), 'đang': (8, 8), 'khiến': (9, 9), 'cộng đồng mạng': (10, 12), 'vô cùng': (13, 14), 'tò mò': (15, 16), 'xôn xao': (17, 18)}, {'riêng': (0, 0), 'các': (1, 1), 'vi phạm': (2, 3), 'gây': (4, 4), 'hậu quả': (5, 6), 'rất': (7, 7), 'nghiêm trọng': (13, 14), 'hay': (10, 10), 'đặc biệt': (11, 12), 'dự thảo': (15, 16), 'này': (17, 17), 'đưa ra': (18, 19), 'mức phạt': (20, 21), 'hàng': (22, 22), 'trăm': (23, 23), 'triệu': (24, 24), 'đồng': (25, 25)}, {'nhưng': (0, 0), 'khi': (1, 1), 'biết': (2, 2), 'ý nghĩa': (3, 4), 'ẩn': (5, 5), 'sau': (6, 6), 'đó': (7, 7), 'mọi người': (8, 9), 'đều': (10, 10), 'gật gù': (11, 12), 'công nhận': (13, 14), 'đây': (15, 15), 'quả': (16, 16), 'là': (17, 17), 'món quà': (18, 19), 'trân quý': (20, 21), 'dành tặng': (22, 23), 'thầy cô': (24, 25)}, {'cụ thể': (0, 1), 'đối với': (2, 3), 'hành vi': (4, 5), 'cấp': (21, 21), 'văn bằng': (7, 8), 'chứng chỉ': (9, 10), 'không đúng': (11, 12), 'tên': (13, 13), 'ngành': (17, 17), 'nghề': (18, 18), 'hoặc': (16, 16), 'không được': (19, 20), 'trong': (22, 22), 'giấy chứng nhận': (31, 33), 'đăng ký': (34, 35), 'hoạt động': (36, 37), 'gdnn': (30, 30), 'liên kết': (38, 39), 'đào tạo': (40, 41), 'với': (42, 42), 'nước ngoài': (43, 44)}, {'những': (17, 17), 'bông hoa': (1, 2), 'món quà': (3, 4), 'nên': (5, 5), 'dành': (6, 6), 'gửi tặng': (7, 8), 'cho': (9, 9), 'đồng bào': (10, 11), 'mất mát': (12, 13), 'do': (14, 14), 'dịch bệnh': (29, 30), 'chiến sĩ': (18, 19), 'áo trắng': (20, 21), 'lực lượng': (22, 23), 'đi đầu': (24, 25), 'trong': (26, 26), 'phòng chống': (27, 28)}, {'các': (0, 0), 'trường': (1, 1), 'không nên': (2, 3), 'tổ chức': (4, 5), 'kỷ niệm': (6, 7), 'lớn': (8, 8), 'hoặc': (9, 9), 'liên hoan': (10, 11), 'dưới': (12, 12), 'bất kỳ': (13, 14), 'hình thức': (15, 16), 'nào đó': (17, 18), 'chính': (19, 19), 'là': (20, 20), 'sự thể hiện': (21, 23), 'lòng biết ơn': (24, 26), 'thiết thực': (27, 28), 'nhất': (29, 29), 'nhân': (30, 30), 'ngày': (31, 31), 'nhà giáo việt nam': (32, 35)}, {'đây': (0, 0), 'là': (15, 15), 'năm': (2, 2), 'đầu tiên': (3, 4), 'mà': (5, 5), 'nhiều': (6, 6), 'sinh viên': (7, 8), 'sư phạm': (9, 10), 'trên': (11, 11), 'cương vị': (12, 13), 'mới': (14, 14), 'giáo viên': (16, 17), 'nhận': (18, 18), 'được': (19, 19), 'sự tri ân': (20, 22), 'từ': (23, 23), 'học trò': (24, 25), 'của': (26, 26), 'mình': (27, 27)}, {'tự': (0, 0), 'mình': (7, 7), 'chuẩn bị': (2, 3), 'ngày lễ': (4, 5), 'cho': (6, 6), 'vân nhi': (8, 9), 'xem': (10, 10), 'đó': (11, 11), 'là': (17, 17), 'kỷ niệm': (13, 14), 'đáng nhớ': (15, 16), 'bước ngoặt': (18, 19), 'trong': (20, 20), 'đời': (21, 21)}, {'cảm giác': (0, 1), 'lạ': (2, 2), 'lắm': (3, 3), 'khi': (4, 4), 'có': (5, 5), 'người': (6, 6), 'tặng': (7, 7), 'quà': (8, 8), 'dù': (9, 9), 'không phải': (10, 11), 'ngày sinh nhật': (12, 14), 'vân nhi': (15, 16), 'chia sẻ': (17, 18)}, {'nếu': (0, 0), 'đại': (1, 1), 'gia đình': (2, 3), 'về': (4, 4), 'sống': (27, 27), 'tại': (6, 6), 'aqua city': (7, 8), 'mỗi': (9, 9), 'lần': (10, 10), 'đi diễn': (11, 12), 'xa': (13, 13), 'tôi': (14, 14), 'rất': (15, 15), 'yên tâm': (16, 17), 'vì': (18, 18), 'vợ con': (19, 20), 'và': (21, 21), 'bố mẹ': (22, 23), 'có': (24, 24), 'không gian': (25, 26), 'thoải mái': (28, 29)}, {'nguyên nhân': (0, 1), 'khiến': (2, 2), 'vàng': (14, 14), 'trong': (17, 17), 'nước': (5, 5), 'tăng': (6, 6), 'mạnh': (7, 7), 'theo': (8, 8), 'eximbank': (9, 9), 'là': (10, 10), 'do': (11, 11), 'lực mua': (12, 13), 'nhỏ lẻ': (15, 16), 'ngày': (18, 18), 'xuất hiện': (19, 20), 'nhiều': (21, 21), 'hơn': (22, 22), 'so với': (23, 24), 'bán ra': (25, 26)}, {'thị trường': (0, 1), 'không có': (2, 3), 'tình trạng': (4, 5), 'khan hiếm': (6, 7), 'vàng': (8, 8), 'nếu': (9, 9), 'được giá': (10, 11), 'thì': (12, 12), 'có': (13, 13), 'người bán ra': (14, 16), 'nhưng': (17, 17), 'do': (18, 18), 'các': (19, 19), 'đơn vị': (20, 21), 'kinh doanh': (22, 23), 'phải': (24, 24), 'cân đối': (25, 26), 'được': (27, 27), 'nguồn hàng': (28, 29), 'nên': (30, 30), 'giá': (31, 31), 'hỏi qua hỏi lại': (32, 35), 'cũng': (36, 36), 'đã': (37, 37), 'đẩy lên cao': (38, 40)}, {'lớp': (0, 0), '2': (1, 1), 'sẽ': (2, 2), 'thực hiện': (3, 4), 'bài': (5, 5), 'kiểm tra': (6, 7), 'định kỳ': (8, 9), 'cuối': (10, 10), 'học kỳ': (11, 12), 'trực tiếp': (13, 14), 'tại': (15, 15), 'trường': (16, 16)}, {'giáo viên': (0, 1), 'ứng dụng': (2, 3), 'công nghệ thông tin': (4, 7), 'để': (8, 8), 'giao': (9, 9), 'bài': (10, 10), 'và': (11, 11), 'nhận': (12, 12), 'bài làm': (13, 14), 'sản phẩm': (15, 16), 'học tập': (17, 18), 'của': (19, 19), 'học sinh': (20, 21)}, {'phụ huynh': (0, 1), 'cần': (2, 2), 'khuyến khích': (3, 4), 'hỗ trợ': (5, 6), 'học sinh': (7, 8), 'tự học': (9, 10), 'luyện tập': (11, 12), 'thực hành': (13, 14)}, {'giáo viên': (0, 1), 'hướng dẫn': (2, 3), 'để': (4, 4), 'cha mẹ': (5, 6), 'học sinh': (7, 8), 'tham gia': (9, 10), 'vào': (11, 11), 'quá trình': (12, 13), 'đánh giá': (14, 15), 'người': (16, 16), 'học': (17, 17)}, {'bài': (0, 0), 'kiểm tra': (1, 2), 'định kỳ': (3, 4), 'cuối': (9, 9), 'học kỳ': (6, 7), 'và': (8, 8), 'năm học': (10, 11), 'được': (12, 12), 'tổ chức': (13, 14), 'linh hoạt': (15, 16), 'bằng': (17, 17), 'các': (18, 18), 'hình thức': (19, 20), 'trực tiếp': (21, 22)}]\n"
     ]
    }
   ],
   "source": [
    "list_words_1 =[]\n",
    "for e in  range(len(sentences)):\n",
    "    tmp = PreprocessString(sentences[e])\n",
    "    for x in range(len(tmp)):\n",
    "        if '_' in tmp[x]:\n",
    "            tmp[x] =tmp[x].replace('_',' ')\n",
    "    list_words_1.append(tmp)\n",
    "\n",
    "\n",
    "list_words_and_index_1 = []\n",
    "\n",
    "for e in list_words_1:\n",
    "     list_words_and_index_1.append(indexing(e))\n",
    "print(list_words_and_index_1)\n",
    "\n",
    "    "
   ]
  },
  {
   "cell_type": "code",
   "execution_count": 304,
   "id": "35022056",
   "metadata": {},
   "outputs": [
    {
     "name": "stdout",
     "output_type": "stream",
     "text": [
      "Number of senteces in data: 40\n",
      "['đến nay, lực lượng chức năng đã xác định trên 600 F1 và hàng nghìn F2 liên quan nhóm bệnh nhân này.\\n', 'dự báo, số F0 tại xã Hải Minh dự kiến sẽ còn gia tăng trong những ngày tới.\\n', 'đến nay, lực lượng chức năng đã xác định trên 600 F1 và hàng nghìn F2 liên quan nhóm bệnh nhân này.\\n', 'ông Nguyễn Ngọc Toàn, tổng biên tập báo Thanh Niên, trao thiết bị hỗ trợ học tập và gửi gắm nhiều niềm hy vọng cho các em sẽ gặt hái được nhiều thành công học tập.\\n', '24 học sinh nhận thiết bị hỗ trợ từ chương trình là 24 hoàn cảnh khó khăn khác nhau nhưng cùng chung ước muốn được học trực tuyến cùng thầy cô và bạn bè.\\n', 'hay đó là Bùi Gia Phúc, học sinh lớp 4/5 trường tiểu học Trần Văn Ơn, sống với ông bà nội ngay khi mới chỉ một tháng tuổi.\\n', 'thông qua đó thêm một cơ hội để các em vượt qua khó khăn, thử thách, vươn lên đạt kết quả tốt nhất trong học tập, đóng góp cho tương lai.\\n', 'chương trình sẽ là dịp để lan tỏa và san sẻ tình yêu thương trong đại dịch.\\n', 'ông Nguyễn Xuân Tiến, uỷ viên ban thường vụ, trưởng ban tuyên giáo quận uỷ, trao máy tính bảng của chương trình cho học sinh\\n', 'ông Nguyễn Văn Cường, phó giám đốc kinh doanh FPT Shop vùng TP HCM, phát biểu tại chương trình\\n', 'trong chuyến thăm biệt thự song lập mới hồi cuối tuần, Quốc Cơ ngẫu hứng diễn xiếc chồng tay với hai con tại tổ hợp quảng trường bến du thuyền Aqua Marina.\\n', 'bé Bắp dạn dĩ hơn bạn bè cùng lứa nhờ được bố luyện xiếc từ khi chưa đầy một tuổi. \\n', 'đại dịch khiến cả hai chú trọng không gian sống nhiều hơn\\n', 'từ đó gia đình mới có thêm nhiều hoạt động gắn kết, nâng cao giá trị tinh thần cho cả gia đình\".\\n', 'Hồng Phượng nói khi ngắm chồng con chơi đùa ngoài khuôn viên biệt thự song lập đảo Phượng Hoàng.\\n', 'tổ hợp quảng trường, bến du thuyền đậm chất châu Âu Aqua Marina là một trong những điểm ấn tượng nhất tại Aqua City\",Hồng Phượng nói.\\n', 'chúng tôi cũng thích chuỗi cửa hàng F B bao quanh, sau những ngày đi quay vất vả, cả nhà có thể cùng thưởng thức những món ngon giữa không gian xanh mát.\\n', 'nếu đại gia đình về sống tại Aqua City, mỗi lần đi diễn xa, tôi rất yên tâm vì vợ con và bố mẹ có không gian sống thoải mái.\\n', 'tháng 11, khách hàng có cơ hội tham quan trải nghiệm đô thị sinh thái thông minh Aqua City bằng đường sông .\\n', 'khách hàng có cơ hội nhận cặp voucher định danh tổng trị giá 200 triệu đồng .\\n', 'ngân hàng TMCP xuất nhập khẩu Việt Nam ( Eximbank ) thay đổi giá 17 lần chỉ trong 5 giờ giao dịch .\\n', 'tốc độ tăng giá của vàng trong nước nhanh hơn so với quốc tế khiến giá SJC đắt hơn lên 10 triệu đồng/lượng .\\n', 'tâm lý người mua lo ngại trước tình trạng tăng giá của vàng thế giới .\\n', 'chương trình đấu giá số đẹp đuôi 2011 đang khiến cộng đồng mạng vô cùng tò mò , xôn xao .\\n', 'riêng các vi phạm gây hậu quả rất nghiêm trọng hay đặc biệt nghiêm trọng , dự thảo này đưa ra mức phạt hàng trăm triệu đồng .\\n', 'nhưng khi biết ý nghĩa ẩn sau đó , mọi người đều gật gù công nhận đây quả là món quà trân quý dành tặng thầy cô .\\n', 'cụ thể , đối với hành vi cấp văn bằng , chứng chỉ không đúng tên ngành , nghề , hoặc ngành , nghề không được cấp trong giấy chứng nhận đăng ký hoạt động GDNN , giấy chứng nhận đăng ký hoạt động liên kết đào tạo với nước ngoài\\n', 'những bông hoa , món quà nên dành gửi tặng cho đồng bào mất mát do dịch bệnh , những chiến sĩ áo trắng , lực lượng đi đầu trong phòng chống dịch bệnh .\\n', 'các trường không nên tổ chức kỷ niệm lớn hoặc liên hoan dưới bất kỳ hình thức nào đó chính là sự thể hiện lòng biết ơn thiết thực nhất nhân ngày Nhà giáo Việt Nam .\\n', 'đây là năm đầu tiên mà nhiều sinh viên sư phạm trên cương vị mới là giáo viên nhận được sự tri ân từ học trò của mình .\\n', 'tự mình chuẩn bị ngày lễ cho mình , Vân Nhi xem đó là kỷ niệm đáng nhớ , là bước ngoặt trong đời .\\n', '\" cảm giác lạ lắm khi có người tặng quà dù không phải ngày sinh nhật \" , Vân Nhi chia sẻ .\\n', 'nếu đại gia đình về sống tại Aqua City , mỗi lần đi diễn xa , tôi rất yên tâm vì vợ con và bố mẹ có không gian sống thoải mái .\\n', 'nguyên nhân khiến vàng trong nước tăng mạnh , theo Eximbank là do lực mua vàng nhỏ lẻ trong ngày xuất hiện nhiều hơn so với bán ra .\\n', 'thị trường không có tình trạng khan hiếm vàng , nếu được giá thì có người bán ra nhưng do các đơn vị kinh doanh phải cân đối được nguồn hàng nên giá hỏi qua hỏi lại cũng đã đẩy lên cao .\\n', 'lớp 2 sẽ thực hiện bài kiểm tra định kỳ cuối học kỳ trực tiếp tại trường.\\n', 'giáo viên ứng dụng công nghệ thông tin để giao bài và nhận bài làm, sản phẩm học tập của học sinh\\n', 'phụ huynh cần khuyến khích hỗ trợ học sinh tự học luyện tập, thực hành\\n', 'giáo viên hướng dẫn để cha mẹ học sinh tham gia vào quá trình đánh giá người học\\n', 'bài kiểm tra định kỳ cuối học kỳ và cuối năm học được tổ chức linh hoạt bằng các hình thức trực tiếp\\n']\n"
     ]
    }
   ],
   "source": [
    "sentences = list()\n",
    "data = 'tachbangcode.txt'\n",
    "with open(data, \"r\", encoding='utf-8') as f:\n",
    "    content = f.readlines()\n",
    "    for i in range(len(content)):\n",
    "        sentence = content[i]\n",
    "        sentences.append(sentence)\n",
    "        \n",
    "print(\"Number of senteces in data:\", len(sentences))\n",
    "print(sentences)\n"
   ]
  },
  {
   "cell_type": "code",
   "execution_count": 305,
   "id": "3c68cc48",
   "metadata": {},
   "outputs": [
    {
     "name": "stdout",
     "output_type": "stream",
     "text": [
      "[{'đến nay': (0, 1), 'lực lượng': (2, 3), 'chức năng': (4, 5), 'đã': (6, 6), 'xác định': (7, 8), 'trên': (9, 9), '600': (10, 10), 'f1': (11, 11), 'và': (12, 12), 'hàng': (13, 13), 'nghìn': (14, 14), 'f2': (15, 15), 'liên quan': (16, 17), 'nhóm': (18, 18), 'bệnh nhân': (19, 20), 'này': (21, 21)}, {'dự báo': (0, 1), 'số': (2, 2), 'f0': (3, 3), 'tại': (4, 4), 'xã': (5, 5), 'hải': (6, 6), 'minh': (7, 7), 'dự kiến': (8, 9), 'sẽ': (10, 10), 'còn': (11, 11), 'gia tăng': (12, 13), 'trong': (14, 14), 'những': (15, 15), 'ngày': (16, 16), 'tới': (17, 17)}, {'đến nay': (0, 1), 'lực lượng': (2, 3), 'chức năng': (4, 5), 'đã': (6, 6), 'xác định': (7, 8), 'trên': (9, 9), '600': (10, 10), 'f1': (11, 11), 'và': (12, 12), 'hàng': (13, 13), 'nghìn': (14, 14), 'f2': (15, 15), 'liên quan': (16, 17), 'nhóm': (18, 18), 'bệnh nhân': (19, 20), 'này': (21, 21)}, {'ông': (0, 0), 'nguyễn': (1, 1), 'ngọc': (2, 2), 'toàn': (3, 3), 'tổng biên tập': (4, 6), 'báo': (7, 7), 'thanh niên': (8, 9), 'trao': (10, 10), 'thiết bị': (11, 12), 'hỗ trợ': (13, 14), 'học tập': (34, 35), 'và': (17, 17), 'gửi gắm': (18, 19), 'nhiều': (31, 31), 'niềm': (21, 21), 'hy vọng': (22, 23), 'cho': (24, 24), 'các': (25, 25), 'em': (26, 26), 'sẽ': (27, 27), 'gặt hái': (28, 29), 'được': (30, 30), 'thành công': (32, 33)}, {'24': (12, 12), 'học sinh': (1, 2), 'nhận': (3, 3), 'thiết bị': (4, 5), 'hỗ trợ': (6, 7), 'từ chương': (8, 9), 'trình': (10, 10), 'là': (11, 11), 'hoàn cảnh': (13, 14), 'khó khăn': (15, 16), 'khác nhau': (17, 18), 'nhưng': (19, 19), 'cùng chung': (20, 21), 'ước muốn': (22, 23), 'được': (24, 24), 'học': (25, 25), 'trực tuyến': (26, 27), 'cùng': (28, 28), 'thầy cô': (29, 30), 'và': (31, 31), 'bạn bè': (32, 33)}, {'hay': (0, 0), 'đó': (1, 1), 'là': (2, 2), 'bùi': (3, 3), 'gia': (4, 4), 'phúc': (5, 5), 'học sinh': (6, 7), 'lớp': (8, 8), '4': (9, 9), '5': (10, 10), 'trường': (11, 11), 'tiểu học': (12, 13), 'trần': (14, 14), 'văn': (15, 15), 'ơn': (16, 16), 'sống': (17, 17), 'với': (18, 18), 'ông bà': (19, 20), 'nội': (21, 21), 'ngay': (22, 22), 'khi': (23, 23), 'mới': (24, 24), 'chỉ': (25, 25), 'một': (26, 26), 'tháng': (27, 27), 'tuổi': (28, 28)}, {'thông qua': (0, 1), 'đó': (2, 2), 'thêm': (3, 3), 'một': (4, 4), 'cơ hội': (5, 6), 'để': (7, 7), 'các': (8, 8), 'em': (9, 9), 'vượt qua': (10, 11), 'khó khăn': (12, 13), 'thử thách': (14, 15), 'vươn': (16, 16), 'lên': (17, 17), 'đạt': (18, 18), 'kết quả': (19, 20), 'tốt': (21, 21), 'nhất': (22, 22), 'trong': (23, 23), 'học tập': (24, 25), 'đóng góp': (26, 27), 'cho': (28, 28), 'tương lai': (29, 30)}, {'chương trình': (0, 1), 'sẽ': (2, 2), 'là': (3, 3), 'dịp': (4, 4), 'để': (5, 5), 'lan': (6, 6), 'tỏa': (7, 7), 'và': (8, 8), 'san sẻ': (9, 10), 'tình yêu': (11, 12), 'thương': (13, 13), 'trong': (14, 14), 'đại dịch': (15, 16)}, {'ông': (0, 0), 'nguyễn': (1, 1), 'xuân tiến': (2, 3), 'uỷ viên': (4, 5), 'ban': (6, 6), 'thường vụ': (7, 8), 'trưởng ban': (9, 10), 'tuyên giáo': (11, 12), 'quận uỷ': (13, 14), 'trao': (15, 15), 'máy tính': (16, 17), 'bảng': (18, 18), 'của': (19, 19), 'chương trình': (20, 21), 'cho': (22, 22), 'học sinh': (23, 24)}, {'ông': (0, 0), 'nguyễn': (1, 1), 'văn': (2, 2), 'cường': (3, 3), 'phó giám đốc': (4, 6), 'kinh doanh': (7, 8), 'fpt': (9, 9), 'shop': (10, 10), 'vùng': (11, 11), 'tp': (12, 12), 'hcm': (13, 13), 'phát biểu': (14, 15), 'tại': (16, 16), 'chương trình': (17, 18)}, {'trong': (0, 0), 'chuyến': (1, 1), 'thăm': (2, 2), 'biệt thự': (3, 4), 'song': (5, 5), 'lập': (6, 6), 'mới': (7, 7), 'hồi': (8, 8), 'cuối tuần': (9, 10), 'quốc': (11, 11), 'cơ': (12, 12), 'ngẫu hứng': (13, 14), 'diễn': (15, 15), 'xiếc': (16, 16), 'chồng': (17, 17), 'tay': (18, 18), 'với': (19, 19), 'hai': (20, 20), 'con': (21, 21), 'tại': (22, 22), 'tổ hợp': (23, 24), 'quảng trường': (25, 26), 'bến': (27, 27), 'du thuyền': (28, 29), 'aqua': (30, 30), 'marina': (31, 31)}, {'bé': (0, 0), 'bắp': (1, 1), 'dạn dĩ': (2, 3), 'hơn': (4, 4), 'bạn bè': (5, 6), 'cùng': (7, 7), 'lứa': (8, 8), 'nhờ': (9, 9), 'được': (10, 10), 'bố': (11, 11), 'luyện': (12, 12), 'xiếc': (13, 13), 'từ': (14, 14), 'khi': (15, 15), 'chưa': (16, 16), 'đầy': (17, 17), 'một': (18, 18), 'tuổi': (19, 19)}, {'đại dịch': (0, 1), 'khiến': (2, 2), 'cả': (3, 3), 'hai': (4, 4), 'chú trọng': (5, 6), 'không gian': (7, 8), 'sống': (9, 9), 'nhiều': (10, 10), 'hơn': (11, 11)}, {'từ đó': (0, 1), 'gia đình': (20, 21), 'mới': (4, 4), 'có': (5, 5), 'thêm': (6, 6), 'nhiều': (7, 7), 'hoạt động': (8, 9), 'gắn kết': (10, 11), 'nâng cao': (12, 13), 'giá trị': (14, 15), 'tinh thần': (16, 17), 'cho': (18, 18), 'cả': (19, 19)}, {'hồng': (0, 0), 'phượng': (1, 1), 'nói': (2, 2), 'khi': (3, 3), 'ngắm': (4, 4), 'chồng con': (5, 6), 'chơi đùa': (7, 8), 'ngoài': (9, 9), 'khuôn viên': (10, 11), 'biệt thự': (12, 13), 'song': (14, 14), 'lập': (15, 15), 'đảo': (16, 16), 'phượng hoàng': (17, 18)}, {'tổ hợp': (0, 1), 'quảng trường': (2, 3), 'bến': (4, 4), 'du thuyền': (5, 6), 'đậm': (7, 7), 'chất': (8, 8), 'châu': (9, 9), 'âu': (10, 10), 'aqua': (22, 22), 'marina': (12, 12), 'là': (13, 13), 'một': (14, 14), 'trong': (15, 15), 'những': (16, 16), 'điểm': (17, 17), 'ấn tượng': (18, 19), 'nhất': (20, 20), 'tại': (21, 21), 'city': (23, 23), 'hồng': (24, 24), 'phượng': (25, 25), 'nói': (26, 26)}, {'chúng tôi': (0, 1), 'cũng': (2, 2), 'thích': (3, 3), 'chuỗi': (4, 4), 'cửa hàng': (5, 6), 'f': (7, 7), 'b': (8, 8), 'bao quanh': (9, 10), 'sau': (11, 11), 'những': (25, 25), 'ngày': (13, 13), 'đi': (14, 14), 'quay': (15, 15), 'vất vả': (16, 17), 'cả': (18, 18), 'nhà có': (19, 20), 'thể': (21, 21), 'cùng': (22, 22), 'thưởng thức': (23, 24), 'món': (26, 26), 'ngon': (27, 27), 'giữa': (28, 28), 'không gian': (29, 30), 'xanh': (31, 31), 'mát': (32, 32)}, {'nếu': (0, 0), 'đại gia đình': (1, 3), 'về': (4, 4), 'sống': (27, 27), 'tại': (6, 6), 'aqua': (7, 7), 'city': (8, 8), 'mỗi': (9, 9), 'lần': (10, 10), 'đi': (11, 11), 'diễn': (12, 12), 'xa': (13, 13), 'tôi': (14, 14), 'rất': (15, 15), 'yên tâm': (16, 17), 'vì': (18, 18), 'vợ con': (19, 20), 'và': (21, 21), 'bố mẹ': (22, 23), 'có': (24, 24), 'không gian': (25, 26), 'thoải mái': (28, 29)}, {'tháng': (0, 0), '11': (1, 1), 'khách hàng': (2, 3), 'có cơ': (4, 5), 'hội': (6, 6), 'tham quan': (7, 8), 'trải nghiệm': (9, 10), 'đô thị': (11, 12), 'sinh thái': (13, 14), 'thông minh': (15, 16), 'aqua': (17, 17), 'city': (18, 18), 'bằng': (19, 19), 'đường sông': (20, 21)}, {'khách hàng': (0, 1), 'có cơ': (2, 3), 'hội': (4, 4), 'nhận': (5, 5), 'cặp': (6, 6), 'voucher': (7, 7), 'định danh': (8, 9), 'tổng': (10, 10), 'trị giá': (11, 12), '200': (13, 13), 'triệu': (14, 14), 'đồng': (15, 15)}, {'ngân hàng': (0, 1), 'tmcp': (2, 2), 'xuất nhập khẩu': (3, 5), 'việt': (6, 6), 'nam': (7, 7), 'eximbank': (8, 8), 'thay đổi': (9, 10), 'giá': (11, 11), '17': (12, 12), 'lần': (13, 13), 'chỉ': (14, 14), 'trong': (15, 15), '5': (16, 16), 'giờ': (17, 17), 'giao dịch': (18, 19)}, {'tốc độ': (0, 1), 'tăng giá': (2, 3), 'của': (4, 4), 'vàng': (5, 5), 'trong': (6, 6), 'nước': (7, 7), 'nhanh': (8, 8), 'hơn': (18, 18), 'so với': (10, 11), 'quốc tế': (12, 13), 'khiến': (14, 14), 'giá': (15, 15), 'sjc': (16, 16), 'đắt': (17, 17), 'lên': (19, 19), '10': (20, 20), 'triệu': (21, 21), 'đồng': (22, 22), 'lượng': (23, 23)}, {'tâm lý': (0, 1), 'người': (2, 2), 'mua': (3, 3), 'lo ngại': (4, 5), 'trước': (6, 6), 'tình trạng': (7, 8), 'tăng giá': (9, 10), 'của': (11, 11), 'vàng': (12, 12), 'thế giới': (13, 14)}, {'chương trình': (0, 1), 'đấu giá': (2, 3), 'số': (4, 4), 'đẹp': (5, 5), 'đuôi': (6, 6), '2011': (7, 7), 'đang': (8, 8), 'khiến': (9, 9), 'cộng đồng': (10, 11), 'mạng': (12, 12), 'vô cùng': (13, 14), 'tò mò': (15, 16), 'xôn xao': (17, 18)}, {'riêng': (0, 0), 'các': (1, 1), 'vi phạm': (2, 3), 'gây': (4, 4), 'hậu quả': (5, 6), 'rất': (7, 7), 'nghiêm trọng': (13, 14), 'hay': (10, 10), 'đặc biệt': (11, 12), 'dự thảo': (15, 16), 'này': (17, 17), 'đưa ra': (18, 19), 'mức': (20, 20), 'phạt': (21, 21), 'hàng': (22, 22), 'trăm': (23, 23), 'triệu': (24, 24), 'đồng': (25, 25)}, {'nhưng': (0, 0), 'khi': (1, 1), 'biết ý': (2, 3), 'nghĩa': (4, 4), 'ẩn': (5, 5), 'sau đó': (6, 7), 'mọi': (8, 8), 'người': (9, 9), 'đều': (10, 10), 'gật gù': (11, 12), 'công nhận': (13, 14), 'đây': (15, 15), 'quả là': (16, 17), 'món': (18, 18), 'quà': (19, 19), 'trân': (20, 20), 'quý': (21, 21), 'dành': (22, 22), 'tặng': (23, 23), 'thầy cô': (24, 25)}, {'cụ thể': (0, 1), 'đối với': (2, 3), 'hành vi': (4, 5), 'cấp': (21, 21), 'văn bằng': (7, 8), 'chứng chỉ': (9, 10), 'không': (19, 19), 'đúng': (12, 12), 'tên': (13, 13), 'ngành nghề': (17, 18), 'hoặc': (16, 16), 'được': (20, 20), 'trong': (22, 22), 'giấy chứng nhận': (31, 33), 'đăng ký': (34, 35), 'hoạt động': (36, 37), 'gdnn': (30, 30), 'liên kết': (38, 39), 'đào tạo': (40, 41), 'với': (42, 42), 'nước ngoài': (43, 44)}, {'những': (17, 17), 'bông hoa': (1, 2), 'món': (3, 3), 'quà': (4, 4), 'nên': (5, 5), 'dành': (6, 6), 'gửi': (7, 7), 'tặng': (8, 8), 'cho': (9, 9), 'đồng bào': (10, 11), 'mất mát': (12, 13), 'do': (14, 14), 'dịch bệnh': (29, 30), 'chiến sĩ': (18, 19), 'áo': (20, 20), 'trắng': (21, 21), 'lực lượng': (22, 23), 'đi đầu': (24, 25), 'trong': (26, 26), 'phòng chống': (27, 28)}, {'các': (0, 0), 'trường': (1, 1), 'không': (2, 2), 'nên': (3, 3), 'tổ chức': (4, 5), 'kỷ niệm': (6, 7), 'lớn': (8, 8), 'hoặc': (9, 9), 'liên hoan': (10, 11), 'dưới': (12, 12), 'bất': (13, 13), 'kỳ hình': (14, 15), 'thức': (16, 16), 'nào đó': (17, 18), 'chính': (19, 19), 'là': (20, 20), 'sự thể': (21, 22), 'hiện': (23, 23), 'lòng': (24, 24), 'biết ơn': (25, 26), 'thiết thực': (27, 28), 'nhất': (29, 29), 'nhân': (30, 30), 'ngày': (31, 31), 'nhà giáo': (32, 33), 'việt': (34, 34), 'nam': (35, 35)}, {'đây': (0, 0), 'là': (15, 15), 'năm': (2, 2), 'đầu tiên': (3, 4), 'mà': (5, 5), 'nhiều': (6, 6), 'sinh viên': (7, 8), 'sư phạm': (9, 10), 'trên': (11, 11), 'cương vị': (12, 13), 'mới': (14, 14), 'giáo viên': (16, 17), 'nhận': (18, 18), 'được': (19, 19), 'sự': (20, 20), 'tri ân': (21, 22), 'từ học': (23, 24), 'trò': (25, 25), 'của': (26, 26), 'mình': (27, 27)}, {'tự': (0, 0), 'mình': (7, 7), 'chuẩn bị': (2, 3), 'ngày lễ': (4, 5), 'cho': (6, 6), 'vân': (8, 8), 'nhi': (9, 9), 'xem': (10, 10), 'đó': (11, 11), 'là': (17, 17), 'kỷ niệm': (13, 14), 'đáng': (15, 15), 'nhớ': (16, 16), 'bước ngoặt': (18, 19), 'trong': (20, 20), 'đời': (21, 21)}, {'cảm giác': (0, 1), 'lạ': (2, 2), 'lắm': (3, 3), 'khi': (4, 4), 'có người': (5, 6), 'tặng': (7, 7), 'quà': (8, 8), 'dù': (9, 9), 'không phải': (10, 11), 'ngày sinh': (12, 13), 'nhật': (14, 14), 'vân': (15, 15), 'nhi': (16, 16), 'chia sẻ': (17, 18)}, {'nếu': (0, 0), 'đại gia đình': (1, 3), 'về': (4, 4), 'sống': (27, 27), 'tại': (6, 6), 'aqua': (7, 7), 'city': (8, 8), 'mỗi': (9, 9), 'lần': (10, 10), 'đi': (11, 11), 'diễn': (12, 12), 'xa': (13, 13), 'tôi': (14, 14), 'rất': (15, 15), 'yên tâm': (16, 17), 'vì': (18, 18), 'vợ con': (19, 20), 'và': (21, 21), 'bố mẹ': (22, 23), 'có': (24, 24), 'không gian': (25, 26), 'thoải mái': (28, 29)}, {'nguyên nhân': (0, 1), 'khiến': (2, 2), 'vàng': (14, 14), 'trong': (17, 17), 'nước': (5, 5), 'tăng': (6, 6), 'mạnh': (7, 7), 'theo': (8, 8), 'eximbank': (9, 9), 'là': (10, 10), 'do': (11, 11), 'lực': (12, 12), 'mua': (13, 13), 'nhỏ': (15, 15), 'lẻ': (16, 16), 'ngày': (18, 18), 'xuất hiện': (19, 20), 'nhiều': (21, 21), 'hơn': (22, 22), 'so với': (23, 24), 'bán': (25, 25), 'ra': (26, 26)}, {'thị trường': (0, 1), 'không': (2, 2), 'có tình': (3, 4), 'trạng': (5, 5), 'khan hiếm': (6, 7), 'vàng': (8, 8), 'nếu': (9, 9), 'được giá': (10, 11), 'thì có': (12, 13), 'người': (14, 14), 'bán': (15, 15), 'ra': (16, 16), 'nhưng': (17, 17), 'do': (18, 18), 'các': (19, 19), 'đơn vị': (20, 21), 'kinh doanh': (22, 23), 'phải': (24, 24), 'cân đối': (25, 26), 'được': (27, 27), 'nguồn hàng': (28, 29), 'nên': (30, 30), 'giá': (31, 31), 'hỏi': (34, 34), 'qua': (33, 33), 'lại': (35, 35), 'cũng': (36, 36), 'đã': (37, 37), 'đẩy': (38, 38), 'lên cao': (39, 40)}, {'lớp': (0, 0), '2': (1, 1), 'sẽ': (2, 2), 'thực hiện': (3, 4), 'bài': (5, 5), 'kiểm tra': (6, 7), 'định kỳ': (8, 9), 'cuối': (10, 10), 'học kỳ': (11, 12), 'trực tiếp': (13, 14), 'tại': (15, 15), 'trường': (16, 16)}, {'giáo viên': (0, 1), 'ứng dụng': (2, 3), 'công nghệ thông tin': (4, 7), 'để': (8, 8), 'giao': (9, 9), 'bài': (10, 10), 'và': (11, 11), 'nhận': (12, 12), 'bài làm': (13, 14), 'sản phẩm': (15, 16), 'học tập': (17, 18), 'của': (19, 19), 'học sinh': (20, 21)}, {'phụ huynh': (0, 1), 'cần': (2, 2), 'khuyến khích': (3, 4), 'hỗ trợ': (5, 6), 'học sinh': (7, 8), 'tự học': (9, 10), 'luyện tập': (11, 12), 'thực hành': (13, 14)}, {'giáo viên': (0, 1), 'hướng dẫn': (2, 3), 'để': (4, 4), 'cha mẹ': (5, 6), 'học sinh': (7, 8), 'tham gia': (9, 10), 'vào': (11, 11), 'quá trình': (12, 13), 'đánh giá': (14, 15), 'người': (16, 16), 'học': (17, 17)}, {'bài': (0, 0), 'kiểm tra': (1, 2), 'định kỳ': (3, 4), 'cuối': (9, 9), 'học kỳ': (6, 7), 'và': (8, 8), 'năm học': (10, 11), 'được': (12, 12), 'tổ chức': (13, 14), 'linh hoạt': (15, 16), 'bằng': (17, 17), 'các': (18, 18), 'hình thức': (19, 20), 'trực tiếp': (21, 22)}]\n"
     ]
    }
   ],
   "source": [
    "list_words_2 = list(maximumMatching(sentences))\n",
    "\n",
    "list_words_and_index_2 = []\n",
    "\n",
    "for e in list_words_2:\n",
    "     list_words_and_index_2.append(indexing(e))\n",
    "print(list_words_and_index_2)"
   ]
  },
  {
   "cell_type": "code",
   "execution_count": 306,
   "id": "672608a6",
   "metadata": {},
   "outputs": [],
   "source": [
    "def Evaluate_1_sentences(dic1,dic2):\n",
    "    recall = 0.0\n",
    "    precision = 0.0\n",
    "    matching = 0\n",
    "    for key1 in dic1:\n",
    "        for key2 in dic2:\n",
    "            if key1 == key2 and dic1[key1] == dic2[key2]:\n",
    "                matching+=1\n",
    "    precision = matching/len(dic2)\n",
    "    recall = matching / len(dic1)\n",
    "    f1 = (precision*recall*2)/(precision+recall)\n",
    "    return precision, recall,f1\n",
    "            \n",
    "        "
   ]
  },
  {
   "cell_type": "code",
   "execution_count": 307,
   "id": "0ba6fe95",
   "metadata": {},
   "outputs": [],
   "source": [
    "def Evaluate_all(lst1,lst2):\n",
    "    precision = []\n",
    "    recall = []\n",
    "    f1=[]\n",
    "    for dic1,dic2 in zip(list_words_and_index_1,list_words_and_index_2):\n",
    "        a, b,c = Evaluate_1_sentences(dic1,dic2)\n",
    "        precision.append(a)\n",
    "        recall.append(b)\n",
    "        f1.append(c)\n",
    "    return sum(precision)/len(precision), sum(recall)/len(recall),sum(f1)/len(f1)"
   ]
  },
  {
   "cell_type": "code",
   "execution_count": 308,
   "id": "70ec7a46",
   "metadata": {},
   "outputs": [
    {
     "name": "stdout",
     "output_type": "stream",
     "text": [
      "Accurracy: 0.8005171280219908\n",
      "Recall: 0.8464909127997531\n",
      "F1: 0.8211849199499592\n"
     ]
    }
   ],
   "source": [
    "accurracy, recall , f1 = Evaluate_all(list_words_1,list_words_2)\n",
    "print('Accurracy:',accurracy)\n",
    "print('Recall:',recall)\n",
    "print('F1:',f1)"
   ]
  }
 ],
 "metadata": {
  "colab": {
   "collapsed_sections": [],
   "name": "MaximumMatching.ipynb",
   "provenance": []
  },
  "kernelspec": {
   "display_name": "Python 3 (ipykernel)",
   "language": "python",
   "name": "python3"
  },
  "language_info": {
   "codemirror_mode": {
    "name": "ipython",
    "version": 3
   },
   "file_extension": ".py",
   "mimetype": "text/x-python",
   "name": "python",
   "nbconvert_exporter": "python",
   "pygments_lexer": "ipython3",
   "version": "3.8.3"
  }
 },
 "nbformat": 4,
 "nbformat_minor": 5
}
