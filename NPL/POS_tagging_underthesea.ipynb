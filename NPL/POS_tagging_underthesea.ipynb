{
 "cells": [
  {
   "cell_type": "code",
   "execution_count": 1,
   "metadata": {},
   "outputs": [],
   "source": [
    " from underthesea import pos_tag"
   ]
  },
  {
   "cell_type": "code",
   "execution_count": 6,
   "metadata": {},
   "outputs": [],
   "source": [
    "tagged_sents = list()\n",
    "sents = [\n",
    "\"lớp 2 sẽ thực hiện bài kiểm tra định kỳ cuối học kỳ I trực tiếp tại trường.\",\n",
    "\"giáo viên ứng dụng công nghệ thông tin để giao bài và nhận bài làm, sản phẩm học tập của học sinh\",\n",
    "\"phụ huynh cần khuyến khích, hỗ trợ học sinh tự học, luyện tập, thực hành\",\n",
    "\"giáo viên hướng dẫn để cha mẹ học sinh tham gia vào quá trình đánh giá người học\",\n",
    "\"bài kiểm tra định kỳ cuối học kỳ I và cuối năm học được tổ chức linh hoạt bằng các hình thức trực tiếp\"\n",
    "]"
   ]
  },
  {
   "cell_type": "code",
   "execution_count": 18,
   "metadata": {},
   "outputs": [
    {
     "data": {
      "text/plain": [
       "['lớp-N 2-M sẽ-R thực_hiện-V bài-N kiểm_tra-V định_kỳ-N cuối-N học_kỳ-N I-Np trực_tiếp-A tại-E trường-N .-CH ',\n",
       " 'giáo_viên-N ứng_dụng-V công_nghệ_thông_tin-N để-E giao-V bài-N và-Cc nhận-V bài_làm-N ,-CH sản_phẩm-N học_tập-V của-E học_sinh-N ',\n",
       " 'phụ_huynh-N cần-V khuyến_khích-V ,-CH hỗ_trợ-V học_sinh-N tự_học-N ,-CH luyện_tập-V ,-CH thực_hành-V ',\n",
       " 'giáo_viên-N hướng_dẫn-V để-E cha_mẹ-N học_sinh-N tham_gia-V vào-E quá_trình-N đánh_giá-V người-N học-V ',\n",
       " 'bài-N kiểm_tra-V định_kỳ-N cuối-N học_kỳ-N I-Np và-Cc cuối-N năm_học-N được-R tổ_chức-V linh_hoạt-V bằng-E các-L hình_thức-N trực_tiếp-A ']"
      ]
     },
     "execution_count": 18,
     "metadata": {},
     "output_type": "execute_result"
    }
   ],
   "source": [
    "for sent in sents:\n",
    "    tagged_sent_token = pos_tag(sent)\n",
    "    tagged_sent = ''\n",
    "    for word, pos in tagged_sent_token:\n",
    "#         print(word.split(\" \"))\n",
    "        word_parts = word.split(\" \")\n",
    "        word = \"_\".join(word_parts)\n",
    "#         print(word)\n",
    "        word_pos = word + \"-\" + pos\n",
    "        tagged_sent += word_pos + \" \"\n",
    "    tagged_sents.append(tagged_sent)\n",
    "#     print(tagged_sent, \"\\n\")\n",
    "\n",
    "tagged_sents"
   ]
  },
  {
   "cell_type": "code",
   "execution_count": 19,
   "metadata": {},
   "outputs": [],
   "source": [
    "with open(\"5_cau_con_thieu.txt\", \"w\", encoding='utf-8') as f:\n",
    "    for tagged_sent in tagged_sents:\n",
    "        f.write(tagged_sent + \"\\n\")"
   ]
  },
  {
   "cell_type": "code",
   "execution_count": null,
   "metadata": {},
   "outputs": [],
   "source": []
  }
 ],
 "metadata": {
  "kernelspec": {
   "display_name": "Python 3",
   "language": "python",
   "name": "python3"
  },
  "language_info": {
   "codemirror_mode": {
    "name": "ipython",
    "version": 3
   },
   "file_extension": ".py",
   "mimetype": "text/x-python",
   "name": "python",
   "nbconvert_exporter": "python",
   "pygments_lexer": "ipython3",
   "version": "3.8.5"
  }
 },
 "nbformat": 4,
 "nbformat_minor": 4
}
