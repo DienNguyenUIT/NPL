{
 "cells": [
  {
   "cell_type": "code",
   "execution_count": 1,
   "metadata": {},
   "outputs": [],
   "source": [
    "import re\n",
    "import string\n",
    "from nltk.tokenize import WhitespaceTokenizer "
   ]
  },
  {
   "cell_type": "code",
   "execution_count": 2,
   "metadata": {},
   "outputs": [],
   "source": [
    "white_space_tokenizer = WhitespaceTokenizer()"
   ]
  },
  {
   "cell_type": "code",
   "execution_count": 3,
   "metadata": {},
   "outputs": [],
   "source": [
    "file_name_40_sentences = \"sample_sentences.txt\"\n",
    "\n",
    "file_name_dictionary = \"Viet74K.txt\""
   ]
  },
  {
   "cell_type": "markdown",
   "metadata": {},
   "source": [
    "**Load data**"
   ]
  },
  {
   "cell_type": "code",
   "execution_count": 4,
   "metadata": {},
   "outputs": [
    {
     "name": "stdout",
     "output_type": "stream",
     "text": [
      "Number of senteces in data: 40\n"
     ]
    }
   ],
   "source": [
    "sentences = list()\n",
    "\n",
    "with open(file_name_40_sentences, \"r\", encoding='utf-8') as f:\n",
    "    content = f.readlines()\n",
    "    f.close()\n",
    "\n",
    "    for i in range(len(content)):\n",
    "        sentence = content[i].strip()\n",
    "        sentences.append(sentence)\n",
    "        \n",
    "print(\"Number of senteces in data:\", len(sentences))"
   ]
  },
  {
   "cell_type": "markdown",
   "metadata": {},
   "source": [
    "**Load dictionary: Vietnamese**"
   ]
  },
  {
   "cell_type": "code",
   "execution_count": 5,
   "metadata": {},
   "outputs": [
    {
     "name": "stdout",
     "output_type": "stream",
     "text": [
      "Number of terms in dictionary: 73901\n"
     ]
    }
   ],
   "source": [
    "dictionary_corpus = list()\n",
    "\n",
    "with open(file_name_dictionary, \"r\", encoding='utf-8') as f:\n",
    "    content = f.readlines()\n",
    "    f.close()\n",
    "\n",
    "    for i in range(len(content)):\n",
    "        term = content[i].strip().lower()\n",
    "        dictionary_corpus.append(term)\n",
    "        \n",
    "dictionary_corpus\n",
    "\n",
    "print(\"Number of terms in dictionary:\", len(dictionary_corpus))"
   ]
  },
  {
   "cell_type": "markdown",
   "metadata": {},
   "source": [
    "**Maximum Matching**"
   ]
  },
  {
   "cell_type": "code",
   "execution_count": 6,
   "metadata": {},
   "outputs": [],
   "source": [
    "def PreprocessString(string_data):\n",
    "    # Lower the text\n",
    "    preprocess_data = string_data.lower()\n",
    "    \n",
    "    # Remove punctuations, each punctuation = space, ex: \"\"information @#$retrieval\" -> \"information    retrieval\"\n",
    "    preprocess_data = re.sub('[%s]' % re.escape(string.punctuation), ' ', preprocess_data)   \n",
    "        \n",
    "    # Tokenize word by white space\n",
    "    preprocess_data = white_space_tokenizer.tokenize(preprocess_data)\n",
    "      \n",
    "    return preprocess_data"
   ]
  },
  {
   "cell_type": "code",
   "execution_count": 14,
   "metadata": {},
   "outputs": [
    {
     "name": "stdout",
     "output_type": "stream",
     "text": [
      "['tôi', 'đi', 'đánh', 'cầu', 'lông']\n"
     ]
    }
   ],
   "source": [
    "sent_token = PreprocessString('tôi đi đánh cầu lông')\n",
    "print(sent_token)"
   ]
  },
  {
   "cell_type": "code",
   "execution_count": 15,
   "metadata": {},
   "outputs": [
    {
     "data": {
      "text/plain": [
       "'cầu lông'"
      ]
     },
     "execution_count": 15,
     "metadata": {},
     "output_type": "execute_result"
    }
   ],
   "source": [
    "GetTerm(sent_token, 3, 5)"
   ]
  },
  {
   "cell_type": "code",
   "execution_count": 11,
   "metadata": {},
   "outputs": [],
   "source": [
    "def GetTerm(sentence_tokenized, start_index, end_index):\n",
    "    term = \"\"\n",
    "    for i in range(start_index, end_index):\n",
    "        term += sentence_tokenized[i] + \" \"\n",
    "    \n",
    "    return term.strip()"
   ]
  },
  {
   "cell_type": "code",
   "execution_count": 18,
   "metadata": {},
   "outputs": [],
   "source": [
    "LENGTH_MAX_TERM_VIETNAMESE = 4\n",
    "LENGTH_MAX_TERM = LENGTH_MAX_TERM_VIETNAMESE\n",
    "\n",
    "sentences_tokenized = dict()\n",
    "\n",
    "for ith_sentence, sentence in enumerate(sentences):\n",
    "    \"\"\" Hiện tại thì chỗ này xét cả câu luôn, về sau sẽ nâng cấp lên thành xét các vế trong câu \"\"\"\n",
    "    sentence_part_tokenzied = PreprocessString(sentence)\n",
    "    \n",
    "    ith_start_term = 0\n",
    "    if len(sentence_part_tokenzied) > LENGTH_MAX_TERM:\n",
    "        ith_end_term = ith_start_term + LENGTH_MAX_TERM\n",
    "    else:\n",
    "        ith_end_term = len(sentence_part_tokenzied)\n",
    "        \n",
    "    term = GetTerm(sentence_part_tokenzied, ith_start_term, ith_end_term)\n",
    "    \n",
    "    # Xét hết cả vế\n",
    "    while True:\n",
    "        \n",
    "        # Xét hết cả term\n",
    "        while ith_start_term != ith_end_term:\n",
    "            if term in dictionary_corpus:\n",
    "                \n",
    "                if ith_sentence not in sentences_tokenized.keys():\n",
    "                    sentences_tokenized[ith_sentence] = [(term, ith_start_term, ith_end_term-1)]\n",
    "                else:\n",
    "                    sentences_tokenized[ith_sentence].append((term, ith_start_term, ith_end_term-1))\n",
    "#                 print(\"Trùng được term:\", term)\n",
    "                    \n",
    "                break\n",
    "            else:\n",
    "#                 print(\"không trùng term nào cả, term:\", term)\n",
    "                ith_end_term -= 1\n",
    "                term = GetTerm(sentence_part_tokenzied, ith_start_term, ith_end_term)\n",
    "\n",
    "        # Đã xét xong term cuối cùng thì chuyển sang câu (vế) khác\n",
    "        if ith_end_term == len(sentence_part_tokenzied):\n",
    "            break\n",
    "        # Nếu vẫn còn term để xét thì chuyển sang term kế tiếp\n",
    "        else:\n",
    "            # Đề phòng trường hợp term không có trong dictionary thì end sẽ tiến về và bằng start, và sẽ gây ra vòng lặp vô tận\n",
    "            # nếu cứ gắn start bằng lại end (giá trị start ban đầu) và cộng end = start + LEN_MAX_TERM_VIETNAMESE\n",
    "            # vd: term = \"2 mũi vaccine cơ\", start = 16, end = 20, chữ \"2\" không có trong dictionary nên sẽ khiến end bị trừ\n",
    "            # thành 16 (bằng với start), và nếu không có điều kiện kiểm tra \"ith_start_term == ith_end_term\" thì sẽ khiến\n",
    "            # start và end trở lại như cũ (16 và 20), vì ở đây gán start = end và đoạn bên dưới gán end = start + LEN_MAX_TERM_VIETNAMESE\n",
    "            # Nên mới phải cần thêm term không có trong dictionary vào trong danh sách các term của từng văn bản (câu)\n",
    "            # Và chuyển sang so khớp term kế tiếp\n",
    "            if ith_start_term == ith_end_term:\n",
    "                term = GetTerm(sentence_part_tokenzied, ith_start_term, ith_start_term+1)\n",
    "                if ith_sentence not in sentences_tokenized.keys():\n",
    "                    sentences_tokenized[ith_sentence] = [(term, ith_start_term, ith_end_term-1)]\n",
    "                else:\n",
    "                    sentences_tokenized[ith_sentence].append((term, ith_start_term, ith_end_term-1))\n",
    "                \n",
    "                ith_start_term = ith_end_term + 1\n",
    "            else:\n",
    "                ith_start_term = ith_end_term\n",
    "                \n",
    "            # Nếu vẫn còn nhiều hơn 4 term để xét thì chuyển sang 4 term kế tiếp\n",
    "            if len(sentence_part_tokenzied) - ith_end_term > LENGTH_MAX_TERM:\n",
    "                ith_end_term = ith_start_term + LENGTH_MAX_TERM\n",
    "            # Nếu chỉ còn nhiều nhất là 4 term thì lấy ra những term cuối cùng của vế để xét\n",
    "            else:\n",
    "                ith_end_term = len(sentence_part_tokenzied)\n",
    "                \n",
    "            term = GetTerm(sentence_part_tokenzied, ith_start_term, ith_end_term)"
   ]
  },
  {
   "cell_type": "code",
   "execution_count": 19,
   "metadata": {},
   "outputs": [
    {
     "name": "stdout",
     "output_type": "stream",
     "text": [
      "Ngày 16/11, thông tin từ Ban chỉ đạo phòng chống dịch Covid-19 huyện Hải Hậu, Nam Định đã ghi nhận tới 52 ca Covid-19 cộng đồng.\n",
      "[('ngày', 0, 0), ('16', 1, 0), ('11', 2, 1), ('thông tin', 3, 4), ('từ', 5, 5), ('ban', 6, 6), ('chỉ đạo', 7, 8), ('phòng chống', 9, 10), ('dịch', 11, 11), ('covid', 12, 11), ('19', 13, 12), ('huyện', 14, 14), ('hải', 15, 14), ('hậu', 16, 16), ('nam', 17, 17), ('định', 18, 18), ('đã', 19, 19), ('ghi nhận', 20, 21), ('tới', 22, 22), ('52', 23, 22), ('ca', 24, 24), ('covid', 25, 24), ('19', 26, 25), ('cộng đồng', 27, 28)] \n",
      "\n",
      "Đến nay, lực lượng chức năng đã xác định trên 600 F1 và hàng nghìn F2 liên quan nhóm bệnh nhân này.\n",
      "[('đến nay', 0, 1), ('lực lượng', 2, 3), ('chức năng', 4, 5), ('đã', 6, 6), ('xác định', 7, 8), ('trên', 9, 9), ('600', 10, 9), ('f1', 11, 10), ('và', 12, 12), ('hàng', 13, 13), ('nghìn', 14, 14), ('f2', 15, 14), ('liên quan', 16, 17), ('nhóm', 18, 18), ('bệnh nhân', 19, 20), ('này', 21, 21)] \n",
      "\n",
      "Dự báo, số F0 tại xã Hải Minh dự kiến sẽ còn gia tăng trong những ngày tới.\n",
      "[('dự báo', 0, 1), ('số', 2, 2), ('f0', 3, 2), ('tại', 4, 4), ('xã', 5, 5), ('hải', 6, 5), ('minh', 7, 7), ('dự kiến', 8, 9), ('sẽ', 10, 10), ('còn', 11, 11), ('gia tăng', 12, 13), ('trong', 14, 14), ('những', 15, 15), ('ngày', 16, 16), ('tới', 17, 17)] \n",
      "\n",
      "Các bệnh nhân trú tại 3 xóm (xóm 34, 35 và xóm Gò). Đến nay, lực lượng chức năng đã xác định trên 600 F1 và hàng nghìn F2 liên quan nhóm bệnh nhân này.\n",
      "[('các', 0, 0), ('bệnh nhân', 1, 2), ('trú', 3, 3), ('tại', 4, 4), ('3', 5, 4), ('xóm', 6, 6), ('xóm', 7, 7), ('34', 8, 7), ('35', 9, 8), ('và', 10, 10), ('xóm', 11, 11), ('gò', 12, 12), ('đến nay', 13, 14), ('lực lượng', 15, 16), ('chức năng', 17, 18), ('đã', 19, 19), ('xác định', 20, 21), ('trên', 22, 22), ('600', 23, 22), ('f1', 24, 23), ('và', 25, 25), ('hàng', 26, 26), ('nghìn', 27, 27), ('f2', 28, 27), ('liên quan', 29, 30), ('nhóm', 31, 31), ('bệnh nhân', 32, 33), ('này', 34, 34)] \n",
      "\n",
      "Ông Nguyễn Ngọc Toàn, Tổng Biên tập Báo Thanh Niên, trao thiết bị hỗ trợ học tập và gửi gắm nhiều niềm hy vọng cho các em sẽ gặt hái được nhiều thành công học tập\n",
      "[('ông', 0, 0), ('nguyễn', 1, 0), ('ngọc', 2, 2), ('toàn', 3, 3), ('tổng biên tập', 4, 6), ('báo', 7, 7), ('thanh niên', 8, 9), ('trao', 10, 10), ('thiết bị', 11, 12), ('hỗ trợ', 13, 14), ('học tập', 15, 16), ('và', 17, 17), ('gửi gắm', 18, 19), ('nhiều', 20, 20), ('niềm', 21, 21), ('hy vọng', 22, 23), ('cho', 24, 24), ('các', 25, 25), ('em', 26, 26), ('sẽ', 27, 27), ('gặt hái', 28, 29), ('được', 30, 30), ('nhiều', 31, 31), ('thành công', 32, 33), ('học tập', 34, 35)] \n",
      "\n",
      "24 học sinh nhận thiết bị hỗ trợ từ chương trình là 24 hoàn cảnh khó khăn khác nhau nhưng cùng chung ước muốn được học trực tuyến cùng thầy cô và bạn bè\n",
      "[('24', 0, -1), ('học sinh', 1, 2), ('nhận', 3, 3), ('thiết bị', 4, 5), ('hỗ trợ', 6, 7), ('từ chương', 8, 9), ('trình', 10, 10), ('là', 11, 11), ('24', 12, 11), ('hoàn cảnh', 13, 14), ('khó khăn', 15, 16), ('khác nhau', 17, 18), ('nhưng', 19, 19), ('cùng chung', 20, 21), ('ước muốn', 22, 23), ('được', 24, 24), ('học', 25, 25), ('trực tuyến', 26, 27), ('cùng', 28, 28), ('thầy cô', 29, 30), ('và', 31, 31), ('bạn bè', 32, 33)] \n",
      "\n",
      "Hay đó là Bùi Gia Phúc, học sinh lớp 4/5 Trường Tiểu học Trần Văn Ơn, ở với ông bà nội ngay khi mới chỉ một tháng tuổi.\n",
      "[('hay', 0, 0), ('đó', 1, 1), ('là', 2, 2), ('bùi', 3, 3), ('gia', 4, 4), ('phúc', 5, 5), ('học sinh', 6, 7), ('lớp', 8, 8), ('4', 9, 8), ('5', 10, 9), ('trường', 11, 11), ('tiểu học', 12, 13), ('trần', 14, 14), ('văn', 15, 15), ('ơn', 16, 16), ('ở', 17, 17), ('với', 18, 18), ('ông bà', 19, 20), ('nội', 21, 21), ('ngay', 22, 22), ('khi', 23, 23), ('mới', 24, 24), ('chỉ', 25, 25), ('một', 26, 26), ('tháng', 27, 27), ('tuổi', 28, 28)] \n",
      "\n",
      "Thông qua đó thêm một cơ hội để các em vượt qua khó khăn, thử thách, vươn lên đạt kết quả tốt nhất trong học tập, đóng góp cho tương lai.\n",
      "[('thông qua', 0, 1), ('đó', 2, 2), ('thêm', 3, 3), ('một', 4, 4), ('cơ hội', 5, 6), ('để', 7, 7), ('các', 8, 8), ('em', 9, 9), ('vượt qua', 10, 11), ('khó khăn', 12, 13), ('thử thách', 14, 15), ('vươn', 16, 16), ('lên', 17, 17), ('đạt', 18, 18), ('kết quả', 19, 20), ('tốt', 21, 21), ('nhất', 22, 22), ('trong', 23, 23), ('học tập', 24, 25), ('đóng góp', 26, 27), ('cho', 28, 28), ('tương lai', 29, 30)] \n",
      "\n",
      "Chương trình sẽ là dịp để lan tỏa và san sẻ tình yêu thương trong đại dịch.\n",
      "[('chương trình', 0, 1), ('sẽ', 2, 2), ('là', 3, 3), ('dịp', 4, 4), ('để', 5, 5), ('lan', 6, 6), ('tỏa', 7, 7), ('và', 8, 8), ('san sẻ', 9, 10), ('tình yêu', 11, 12), ('thương', 13, 13), ('trong', 14, 14), ('đại dịch', 15, 16)] \n",
      "\n",
      "Ông Nguyễn Xuân Tiến, Ủy viên Ban Thường vụ, Trưởng ban Tuyên giáo Quận ủy, trao máy tính bảng của chương trình cho học sinh\n",
      "[('ông', 0, 0), ('nguyễn', 1, 0), ('xuân tiến', 2, 3), ('ủy', 4, 3), ('viên', 5, 5), ('ban', 6, 6), ('thường vụ', 7, 8), ('trưởng ban', 9, 10), ('tuyên giáo', 11, 12), ('quận ủy', 13, 14), ('trao', 15, 15), ('máy tính', 16, 17), ('bảng', 18, 18), ('của', 19, 19), ('chương trình', 20, 21), ('cho', 22, 22), ('học sinh', 23, 24)] \n",
      "\n",
      "Ông Nguyễn Văn Cường, Phó Giám đốc kinh doanh FPT Shop vùng TP.HCM, phát biểu tại chương trình\n",
      "[('ông', 0, 0), ('nguyễn', 1, 0), ('văn', 2, 2), ('cường', 3, 3), ('phó giám đốc', 4, 6), ('kinh doanh', 7, 8), ('fpt', 9, 8), ('shop', 10, 10), ('vùng', 11, 11), ('tp', 12, 12), ('hcm', 13, 12), ('phát biểu', 14, 15), ('tại', 16, 16), ('chương trình', 17, 18)] \n",
      "\n",
      "Trong chuyến thăm biệt thự song lập mới hồi cuối tuần, Quốc Cơ ngẫu hứng diễn xiếc chồng tay với hai con tại tổ hợp quảng trường - bến du thuyền Aqua Marina.\n",
      "[('trong', 0, 0), ('chuyến', 1, 1), ('thăm', 2, 2), ('biệt thự', 3, 4), ('song', 5, 5), ('lập', 6, 6), ('mới', 7, 7), ('hồi', 8, 8), ('cuối tuần', 9, 10), ('quốc', 11, 11), ('cơ', 12, 12), ('ngẫu hứng', 13, 14), ('diễn', 15, 15), ('xiếc', 16, 16), ('chồng', 17, 17), ('tay', 18, 18), ('với', 19, 19), ('hai', 20, 20), ('con', 21, 21), ('tại', 22, 22), ('tổ hợp', 23, 24), ('quảng trường', 25, 26), ('bến', 27, 27), ('du thuyền', 28, 29), ('aqua', 30, 29), ('marina', 31, 30)] \n",
      "\n",
      "Bé Bắp dạn dĩ hơn bạn bè cùng lứa nhờ được bố luyện xiếc từ khi chưa đầy một tuổi. Hồng Phượng và con gái hai tuổi vỗ tay cổ vũ hai bố con.\n",
      "[('bé', 0, 0), ('bắp', 1, 1), ('dạn dĩ', 2, 3), ('hơn', 4, 4), ('bạn bè', 5, 6), ('cùng', 7, 7), ('lứa', 8, 8), ('nhờ', 9, 9), ('được', 10, 10), ('bố', 11, 11), ('luyện', 12, 12), ('xiếc', 13, 13), ('từ', 14, 14), ('khi', 15, 15), ('chưa', 16, 16), ('đầy', 17, 17), ('một', 18, 18), ('tuổi', 19, 19), ('hồng', 20, 20), ('phượng', 21, 21), ('và', 22, 22), ('con gái', 23, 24), ('hai', 25, 25), ('tuổi', 26, 26), ('vỗ tay', 27, 28), ('cổ vũ', 29, 30), ('hai', 31, 31), ('bố', 32, 32), ('con', 33, 33)] \n",
      "\n",
      "Quốc Cơ cho hay: \"Người hào hứng nhất là Bắp và Dâu. Sau bao ngày mới được đi chơi, mà còn được dạo chơi du thuyền rất mát mẻ, nên cả nhà rất thư giãn và thích thú\".\n",
      "[('quốc', 0, 0), ('cơ', 1, 1), ('cho hay', 2, 3), ('người', 4, 4), ('hào hứng', 5, 6), ('nhất là', 7, 8), ('bắp', 9, 9), ('và', 10, 10), ('dâu', 11, 11), ('sau', 12, 12), ('bao', 13, 13), ('ngày', 14, 14), ('mới', 15, 15), ('được', 16, 16), ('đi chơi', 17, 18), ('mà còn', 19, 20), ('được', 21, 21), ('dạo chơi', 22, 23), ('du thuyền', 24, 25), ('rất', 26, 26), ('mát mẻ', 27, 28), ('nên', 29, 29), ('cả', 30, 30), ('nhà', 31, 31), ('rất', 32, 32), ('thư giãn', 33, 34), ('và', 35, 35), ('thích thú', 36, 37)] \n",
      "\n",
      "Đại dịch khiến cả hai chú trọng không gian sống nhiều hơn. Trước giãn cách, cả hai bận rộn công việc, chỉ về nhà khi chiều tối.\n",
      "[('đại dịch', 0, 1), ('khiến', 2, 2), ('cả', 3, 3), ('hai', 4, 4), ('chú trọng', 5, 6), ('không gian', 7, 8), ('sống', 9, 9), ('nhiều', 10, 10), ('hơn', 11, 11), ('trước', 12, 12), ('giãn', 13, 13), ('cách', 14, 14), ('cả', 15, 15), ('hai', 16, 16), ('bận rộn', 17, 18), ('công việc', 19, 20), ('chỉ', 21, 21), ('về', 22, 22), ('nhà', 23, 23), ('khi', 24, 24), ('chiều tối', 25, 26)] \n",
      "\n",
      "Từ đó gia đình mới có thêm nhiều hoạt động gắn kết, nâng cao giá trị tinh thần cho cả gia đình\".\n",
      "[('từ đó', 0, 1), ('gia đình', 2, 3), ('mới', 4, 4), ('có', 5, 5), ('thêm', 6, 6), ('nhiều', 7, 7), ('hoạt động', 8, 9), ('gắn kết', 10, 11), ('nâng cao', 12, 13), ('giá trị', 14, 15), ('tinh thần', 16, 17), ('cho', 18, 18), ('cả', 19, 19), ('gia đình', 20, 21)] \n",
      "\n",
      "Hồng Phượng nói khi ngắm chồng con chơi đùa ngoài khuôn viên biệt thự song lập đảo Phượng Hoàng.\n",
      "[('hồng', 0, 0), ('phượng', 1, 1), ('nói', 2, 2), ('khi', 3, 3), ('ngắm', 4, 4), ('chồng con', 5, 6), ('chơi đùa', 7, 8), ('ngoài', 9, 9), ('khuôn viên', 10, 11), ('biệt thự', 12, 13), ('song', 14, 14), ('lập', 15, 15), ('đảo', 16, 16), ('phượng hoàng', 17, 18)] \n",
      "\n",
      "Tổ hợp quảng trường - bến du thuyền đậm chất châu Âu Aqua Marina là một trong những điểm ấn tượng nhất tại Aqua City\", Hồng Phượng nói.\n",
      "[('tổ hợp', 0, 1), ('quảng trường', 2, 3), ('bến', 4, 4), ('du thuyền', 5, 6), ('đậm', 7, 7), ('chất', 8, 8), ('châu', 9, 9), ('âu', 10, 10), ('aqua', 11, 10), ('marina', 12, 11), ('là', 13, 13), ('một', 14, 14), ('trong', 15, 15), ('những', 16, 16), ('điểm', 17, 17), ('ấn tượng', 18, 19), ('nhất', 20, 20), ('tại', 21, 21), ('aqua', 22, 21), ('city', 23, 22), ('hồng', 24, 24), ('phượng', 25, 25), ('nói', 26, 26)] \n",
      "\n",
      "Chúng tôi cũng thích chuỗi cửa hàng F&B bao quanh, sau những ngày đi quay vất vả, cả nhà có thể cùng thưởng thức những món ngon giữa không gian xanh mát.\n",
      "[('chúng tôi', 0, 1), ('cũng', 2, 2), ('thích', 3, 3), ('chuỗi', 4, 4), ('cửa hàng', 5, 6), ('f', 7, 7), ('b', 8, 8), ('bao quanh', 9, 10), ('sau', 11, 11), ('những', 12, 12), ('ngày', 13, 13), ('đi', 14, 14), ('quay', 15, 15), ('vất vả', 16, 17), ('cả', 18, 18), ('nhà có', 19, 20), ('thể', 21, 21), ('cùng', 22, 22), ('thưởng thức', 23, 24), ('những', 25, 25), ('món', 26, 26), ('ngon', 27, 27), ('giữa', 28, 28), ('không gian', 29, 30), ('xanh', 31, 31), ('mát', 32, 32)] \n",
      "\n",
      "Nếu đại gia đình về sống tại Aqua City, mỗi lần đi diễn xa, tôi rất yên tâm vì vợ con và bố mẹ có không gian sống thoải mái.\n",
      "[('nếu', 0, 0), ('đại gia đình', 1, 3), ('về', 4, 4), ('sống', 5, 5), ('tại', 6, 6), ('aqua', 7, 6), ('city', 8, 7), ('mỗi', 9, 9), ('lần', 10, 10), ('đi', 11, 11), ('diễn', 12, 12), ('xa', 13, 13), ('tôi', 14, 14), ('rất', 15, 15), ('yên tâm', 16, 17), ('vì', 18, 18), ('vợ con', 19, 20), ('và', 21, 21), ('bố mẹ', 22, 23), ('có', 24, 24), ('không gian', 25, 26), ('sống', 27, 27), ('thoải mái', 28, 29)] \n",
      "\n",
      "Tháng 11, khách hàng có cơ hội tham quan trải nghiệm đô thị sinh thái thông minh Aqua City bằng đường sông.\n",
      "[('tháng', 0, 0), ('11', 1, 0), ('khách hàng', 2, 3), ('có cơ', 4, 5), ('hội', 6, 6), ('tham quan', 7, 8), ('trải nghiệm', 9, 10), ('đô thị', 11, 12), ('sinh thái', 13, 14), ('thông minh', 15, 16), ('aqua', 17, 16), ('city', 18, 17), ('bằng', 19, 19), ('đường sông', 20, 21)] \n",
      "\n",
      "khách hàng có cơ hội nhận cặp voucher định danh tổng trị giá 200 triệu đồng.\n",
      "[('khách hàng', 0, 1), ('có cơ', 2, 3), ('hội', 4, 4), ('nhận', 5, 5), ('cặp', 6, 6), ('voucher', 7, 6), ('định danh', 8, 9), ('tổng', 10, 10), ('trị giá', 11, 12), ('200', 13, 12), ('triệu', 14, 14), ('đồng', 15, 15)] \n",
      "\n",
      "Khoảng 14 giờ ngày 16.11, giá vàng SJC tăng thêm 400.000 đồng mỗi lượng so với mở cửa đầu ngày.\n",
      "[('khoảng', 0, 0), ('14', 1, 0), ('giờ', 2, 2), ('ngày', 3, 3), ('16', 4, 3), ('11', 5, 4), ('giá', 6, 6), ('vàng', 7, 7), ('sjc', 8, 7), ('tăng', 9, 9), ('thêm', 10, 10), ('400', 11, 10), ('000', 12, 11), ('đồng', 13, 13), ('mỗi', 14, 14), ('lượng', 15, 15), ('so với', 16, 17), ('mở cửa', 18, 19), ('đầu', 20, 20), ('ngày', 21, 21)] \n",
      "\n",
      "Ngân hàng TMCP xuất nhập khẩu Việt Nam (Eximbank) thay đổi giá 17 lần chỉ trong 5 giờ giao dịch\n",
      "[('ngân hàng', 0, 1), ('tmcp', 2, 1), ('xuất nhập khẩu', 3, 5), ('việt', 6, 6), ('nam', 7, 7), ('eximbank', 8, 7), ('thay đổi', 9, 10), ('giá', 11, 11), ('17', 12, 11), ('lần', 13, 13), ('chỉ', 14, 14), ('trong', 15, 15), ('5', 16, 15), ('giờ', 17, 17), ('giao dịch', 18, 19)] \n",
      "\n",
      "Tốc độ tăng giá của vàng trong nước nhanh hơn so với quốc tế khiến giá SJC đắt hơn lên 10 triệu đồng/lượng\n",
      "[('tốc độ', 0, 1), ('tăng giá', 2, 3), ('của', 4, 4), ('vàng', 5, 5), ('trong', 6, 6), ('nước', 7, 7), ('nhanh', 8, 8), ('hơn', 9, 9), ('so với', 10, 11), ('quốc tế', 12, 13), ('khiến', 14, 14), ('giá', 15, 15), ('sjc', 16, 15), ('đắt', 17, 17), ('hơn', 18, 18), ('lên', 19, 19), ('10', 20, 19), ('triệu', 21, 21), ('đồng', 22, 22), ('lượng', 23, 23)] \n",
      "\n",
      "Nguyên nhân khiến vàng trong nước tăng mạnh, theo Eximbank là do lực mua vàng nhỏ lẻ trong ngày xuất hiện nhiều hơn so với bán ra.\n",
      "[('nguyên nhân', 0, 1), ('khiến', 2, 2), ('vàng', 3, 3), ('trong', 4, 4), ('nước', 5, 5), ('tăng', 6, 6), ('mạnh', 7, 7), ('theo', 8, 8), ('eximbank', 9, 8), ('là', 10, 10), ('do', 11, 11), ('lực', 12, 12), ('mua', 13, 13), ('vàng', 14, 14), ('nhỏ', 15, 15), ('lẻ', 16, 16), ('trong', 17, 17), ('ngày', 18, 18), ('xuất hiện', 19, 20), ('nhiều', 21, 21), ('hơn', 22, 22), ('so với', 23, 24), ('bán', 25, 25), ('ra', 26, 26)] \n",
      "\n",
      "âm lý người mua lo ngại trước tình trạng tăng giá của vàng thế giới.\n",
      "[('âm', 0, 0), ('lý', 1, 1), ('người', 2, 2), ('mua', 3, 3), ('lo ngại', 4, 5), ('trước', 6, 6), ('tình trạng', 7, 8), ('tăng giá', 9, 10), ('của', 11, 11), ('vàng', 12, 12), ('thế giới', 13, 14)] \n",
      "\n",
      "Thị trường không có tình trạng khan hiếm vàng, nếu được giá thì có người bán ra nhưng do các đơn vị kinh doanh phải cân đối được nguồn hàng nên giá hỏi qua hỏi lại cũng đã đẩy lên cao.\n",
      "[('thị trường', 0, 1), ('không', 2, 2), ('có tình', 3, 4), ('trạng', 5, 5), ('khan hiếm', 6, 7), ('vàng', 8, 8), ('nếu', 9, 9), ('được giá', 10, 11), ('thì có', 12, 13), ('người', 14, 14), ('bán', 15, 15), ('ra', 16, 16), ('nhưng', 17, 17), ('do', 18, 18), ('các', 19, 19), ('đơn vị', 20, 21), ('kinh doanh', 22, 23), ('phải', 24, 24), ('cân đối', 25, 26), ('được', 27, 27), ('nguồn hàng', 28, 29), ('nên', 30, 30), ('giá', 31, 31), ('hỏi', 32, 32), ('qua', 33, 33), ('hỏi', 34, 34), ('lại', 35, 35), ('cũng', 36, 36), ('đã', 37, 37), ('đẩy', 38, 38), ('lên cao', 39, 40)] \n",
      "\n",
      "Chương trình đấu giá số đẹp đuôi 2011 đang khiến cộng đồng mạng vô cùng tò mò, xôn xao.\n",
      "[('chương trình', 0, 1), ('đấu giá', 2, 3), ('số', 4, 4), ('đẹp', 5, 5), ('đuôi', 6, 6), ('2011', 7, 6), ('đang', 8, 8), ('khiến', 9, 9), ('cộng đồng', 10, 11), ('mạng', 12, 12), ('vô cùng', 13, 14), ('tò mò', 15, 16), ('xôn xao', 17, 18)] \n",
      "\n",
      "Nhưng khi biết ý nghĩa ẩn sau đó,mọi người đều gật gù công nhận đây quả là món quà trân quý dành tặng thầy cô.\n",
      "[('nhưng', 0, 0), ('khi', 1, 1), ('biết ý', 2, 3), ('nghĩa', 4, 4), ('ẩn', 5, 5), ('sau đó', 6, 7), ('mọi', 8, 8), ('người', 9, 9), ('đều', 10, 10), ('gật gù', 11, 12), ('công nhận', 13, 14), ('đây', 15, 15), ('quả là', 16, 17), ('món', 18, 18), ('quà', 19, 19), ('trân', 20, 20), ('quý', 21, 21), ('dành', 22, 22), ('tặng', 23, 23), ('thầy cô', 24, 25)] \n",
      "\n",
      "Đối với các vi phạm nhẹ, mức phạt từ 1 - 50 triệu đồng tùy từng mức độ. Riêng các vi phạm gây hậu quả rất nghiêm trọng hay đặc biệt nghiêm trọng, dự thảo này đưa ra mức phạt hàng trăm triệu đồng\n",
      "[('đối với', 0, 1), ('các', 2, 2), ('vi phạm', 3, 4), ('nhẹ', 5, 5), ('mức', 6, 6), ('phạt', 7, 7), ('từ', 8, 8), ('1', 9, 8), ('50', 10, 9), ('triệu', 11, 11), ('đồng', 12, 12), ('tùy', 13, 12), ('từng', 14, 14), ('mức độ', 15, 16), ('riêng', 17, 17), ('các', 18, 18), ('vi phạm', 19, 20), ('gây', 21, 21), ('hậu quả', 22, 23), ('rất', 24, 24), ('nghiêm trọng', 25, 26), ('hay', 27, 27), ('đặc biệt', 28, 29), ('nghiêm trọng', 30, 31), ('dự thảo', 32, 33), ('này', 34, 34), ('đưa ra', 35, 36), ('mức', 37, 37), ('phạt', 38, 38), ('hàng', 39, 39), ('trăm', 40, 40), ('triệu', 41, 41), ('đồng', 42, 42)] \n",
      "\n",
      "Cụ thể, đối với hành vi cấp văn bằng, chứng chỉ không đúng tên ngành, nghề, hoặc ngành, nghề không được cấp trong giấy chứng nhận đăng ký hoạt động GDNN, giấy chứng nhận đăng ký hoạt động liên kết đào tạo với nước ngoài\n",
      "[('cụ thể', 0, 1), ('đối với', 2, 3), ('hành vi', 4, 5), ('cấp', 6, 6), ('văn bằng', 7, 8), ('chứng chỉ', 9, 10), ('không', 11, 11), ('đúng', 12, 12), ('tên', 13, 13), ('ngành nghề', 14, 15), ('hoặc', 16, 16), ('ngành nghề', 17, 18), ('không', 19, 19), ('được', 20, 20), ('cấp', 21, 21), ('trong', 22, 22), ('giấy chứng nhận', 23, 25), ('đăng ký', 26, 27), ('hoạt động', 28, 29), ('gdnn', 30, 29), ('giấy chứng nhận', 31, 33), ('đăng ký', 34, 35), ('hoạt động', 36, 37), ('liên kết', 38, 39), ('đào tạo', 40, 41), ('với', 42, 42), ('nước ngoài', 43, 44)] \n",
      "\n",
      "Năm học này diễn ra trong bối cảnh dịch bệnh Covid-19 ảnh hưởng nghiêm trọng đến đời sống, mọi người dân phải oằn mình gánh chịu, thiệt hại về vật chất, tính mạng là vô cùng lớn\n",
      "[('năm học', 0, 1), ('này', 2, 2), ('diễn', 3, 3), ('ra', 4, 4), ('trong', 5, 5), ('bối cảnh', 6, 7), ('dịch bệnh', 8, 9), ('covid', 10, 9), ('19', 11, 10), ('ảnh hưởng', 12, 13), ('nghiêm trọng', 14, 15), ('đến', 16, 16), ('đời sống', 17, 18), ('mọi', 19, 19), ('người', 20, 20), ('dân', 21, 21), ('phải', 22, 22), ('oằn', 23, 23), ('mình', 24, 24), ('gánh chịu', 25, 26), ('thiệt hại', 27, 28), ('về', 29, 29), ('vật chất', 30, 31), ('tính mạng', 32, 33), ('là', 34, 34), ('vô cùng', 35, 36), ('lớn', 37, 37)] \n",
      "\n",
      "Những bông hoa, món quà nên dành gửi tặng cho đồng bào mất mát do dịch bệnh, những chiến sĩ áo trắng, lực lượng đi đầu trong phòng chống dịch bệnh.\n",
      "[('những', 0, 0), ('bông hoa', 1, 2), ('món', 3, 3), ('quà', 4, 4), ('nên', 5, 5), ('dành', 6, 6), ('gửi', 7, 7), ('tặng', 8, 8), ('cho', 9, 9), ('đồng bào', 10, 11), ('mất mát', 12, 13), ('do', 14, 14), ('dịch bệnh', 15, 16), ('những', 17, 17), ('chiến sĩ', 18, 19), ('áo', 20, 20), ('trắng', 21, 21), ('lực lượng', 22, 23), ('đi đầu', 24, 25), ('trong', 26, 26), ('phòng chống', 27, 28), ('dịch bệnh', 29, 30)] \n",
      "\n",
      "Các trường không nên tổ chức kỷ niệm lớn hoặc liên hoan dưới bất kỳ hình thức nào đó chính là sự thể hiện lòng biết ơn thiết thực nhất nhân ngày Nhà giáo Việt Nam.\n",
      "[('các', 0, 0), ('trường', 1, 1), ('không', 2, 2), ('nên', 3, 3), ('tổ chức', 4, 5), ('kỷ niệm', 6, 7), ('lớn', 8, 8), ('hoặc', 9, 9), ('liên hoan', 10, 11), ('dưới', 12, 12), ('bất', 13, 13), ('kỳ hình', 14, 15), ('thức', 16, 16), ('nào đó', 17, 18), ('chính', 19, 19), ('là', 20, 20), ('sự thể', 21, 22), ('hiện', 23, 23), ('lòng', 24, 24), ('biết ơn', 25, 26), ('thiết thực', 27, 28), ('nhất', 29, 29), ('nhân', 30, 30), ('ngày', 31, 31), ('nhà giáo', 32, 33), ('việt', 34, 34), ('nam', 35, 35)] \n",
      "\n",
      "Đây là năm đầu tiên mà nhiều sinh viên sư phạm trên cương vị mới là giáo viên nhận được sự tri ân từ học trò của mình.\n",
      "[('đây', 0, 0), ('là', 1, 1), ('năm', 2, 2), ('đầu tiên', 3, 4), ('mà', 5, 5), ('nhiều', 6, 6), ('sinh viên', 7, 8), ('sư phạm', 9, 10), ('trên', 11, 11), ('cương vị', 12, 13), ('mới', 14, 14), ('là', 15, 15), ('giáo viên', 16, 17), ('nhận', 18, 18), ('được', 19, 19), ('sự', 20, 20), ('tri ân', 21, 22), ('từ học', 23, 24), ('trò', 25, 25), ('của', 26, 26), ('mình', 27, 27)] \n",
      "\n",
      "Trương Thị Vân Nhi (21 tuổi, ở Đồng Nai), giáo viên dạy nhạc tại Trường liên cấp Tuệ Đức (Q.2, TP.HCM) tất bật chuẩn bị cho ngày Nhà giáo Việt Nam 20.11.\n",
      "[('trương', 0, 0), ('thị', 1, 1), ('vân', 2, 2), ('nhi', 3, 3), ('21', 4, 3), ('tuổi', 5, 5), ('ở', 6, 6), ('đồng', 7, 7), ('nai', 8, 8), ('giáo viên', 9, 10), ('dạy', 11, 11), ('nhạc', 12, 12), ('tại', 13, 13), ('trường', 14, 14), ('liên', 15, 15), ('cấp', 16, 16), ('tuệ', 17, 17), ('đức', 18, 18), ('q', 19, 19), ('2', 20, 19), ('tp', 21, 21), ('hcm', 22, 21), ('tất bật', 23, 24), ('chuẩn bị', 25, 26), ('cho', 27, 27), ('ngày', 28, 28), ('nhà giáo', 29, 30), ('việt', 31, 31), ('nam', 32, 32), ('20', 33, 32), ('11', 34, 33)] \n",
      "\n",
      "Tự mình chuẩn bị ngày lễ cho mình, Vân Nhi xem đó là kỷ niệm đáng nhớ, là bước ngoặt trong đời.\n",
      "[('tự', 0, 0), ('mình', 1, 1), ('chuẩn bị', 2, 3), ('ngày lễ', 4, 5), ('cho', 6, 6), ('mình', 7, 7), ('vân', 8, 8), ('nhi', 9, 9), ('xem', 10, 10), ('đó', 11, 11), ('là', 12, 12), ('kỷ niệm', 13, 14), ('đáng', 15, 15), ('nhớ', 16, 16), ('là', 17, 17), ('bước ngoặt', 18, 19), ('trong', 20, 20), ('đời', 21, 21)] \n",
      "\n",
      "Là một giáo viên dạy nhạc, mình không mong các em sẽ tặng quà hay chuẩn bị cho mình một ngày 20.11 đáng nhớ, nhưng hiện tại mình đã nhận được rất nhiều lời chúc mừng và những phần quà nhỏ xinh như thiệp, tranh vẽ hay những quyển sổ.\n",
      "[('là', 0, 0), ('một', 1, 1), ('giáo viên', 2, 3), ('dạy', 4, 4), ('nhạc', 5, 5), ('mình', 6, 6), ('không', 7, 7), ('mong', 8, 8), ('các', 9, 9), ('em', 10, 10), ('sẽ', 11, 11), ('tặng', 12, 12), ('quà', 13, 13), ('hay', 14, 14), ('chuẩn bị', 15, 16), ('cho', 17, 17), ('mình', 18, 18), ('một', 19, 19), ('ngày', 20, 20), ('20', 21, 20), ('11', 22, 21), ('đáng', 23, 23), ('nhớ', 24, 24), ('nhưng', 25, 25), ('hiện tại', 26, 27), ('mình', 28, 28), ('đã', 29, 29), ('nhận', 30, 30), ('được', 31, 31), ('rất', 32, 32), ('nhiều lời', 33, 34), ('chúc mừng', 35, 36), ('và', 37, 37), ('những', 38, 38), ('phần', 39, 39), ('quà', 40, 40), ('nhỏ', 41, 41), ('xinh', 42, 42), ('như', 43, 43), ('thiệp', 44, 44), ('tranh', 45, 45), ('vẽ', 46, 46), ('hay', 47, 47), ('những', 48, 48), ('quyển', 49, 49), ('sổ', 50, 50)] \n",
      "\n",
      "Cảm giác lạ lắm khi có người tặng quà dù không phải ngày sinh nhật”, Vân Nhi chia sẻ.\n",
      "[('cảm giác', 0, 1), ('lạ', 2, 2), ('lắm', 3, 3), ('khi', 4, 4), ('có người', 5, 6), ('tặng', 7, 7), ('quà', 8, 8), ('dù', 9, 9), ('không phải', 10, 11), ('ngày sinh', 12, 13), ('nhật”', 14, 13), ('vân', 15, 15), ('nhi', 16, 16), ('chia sẻ', 17, 18)] \n",
      "\n"
     ]
    }
   ],
   "source": [
    "for ith, sentence in enumerate(sentences):\n",
    "    print(sentence)\n",
    "    print(sentences_tokenized[ith], \"\\n\")\n",
    "# for key in  sentences_tokenized.keys():\n",
    "#     print(sentences_tokenized[key])"
   ]
  },
  {
   "cell_type": "code",
   "execution_count": null,
   "metadata": {},
   "outputs": [],
   "source": []
  }
 ],
 "metadata": {
  "kernelspec": {
   "display_name": "Python 3",
   "language": "python",
   "name": "python3"
  },
  "language_info": {
   "codemirror_mode": {
    "name": "ipython",
    "version": 3
   },
   "file_extension": ".py",
   "mimetype": "text/x-python",
   "name": "python",
   "nbconvert_exporter": "python",
   "pygments_lexer": "ipython3",
   "version": "3.8.5"
  }
 },
 "nbformat": 4,
 "nbformat_minor": 4
}
